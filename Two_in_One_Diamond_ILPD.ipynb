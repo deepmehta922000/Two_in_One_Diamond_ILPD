{
  "cells": [
    {
      "cell_type": "markdown",
      "metadata": {
        "id": "COrz_a6CFWIQ"
      },
      "source": [
        "‘Diamonds’ dataset from https://www.kaggle.com/shivam2503/diamonds.\n",
        "\n",
        "**1.** Designed and implemented a Python function, what you feel is a good proximity measure between two data samples (diamonds) in the Diamonds dataset. Explained the rationale for design.\n",
        "\n",
        "**2.** Implemented a function that takes the index of a data sample in the dataset as input, and returns the indices of its k nearest neighbors (not including itself) using the proximity measure you defined, where k is a parameter. \n",
        "\n",
        "**3.** Inspected the first nearest neighbor returned and showed that it is indeed a similar diamond."
      ]
    },
    {
      "cell_type": "markdown",
      "metadata": {
        "id": "Nkk0XLcCC3Tj"
      },
      "source": [
        "### Solution "
      ]
    },
    {
      "cell_type": "code",
      "execution_count": null,
      "metadata": {
        "colab": {
          "base_uri": "https://localhost:8080/",
          "height": 206
        },
        "id": "F8yY-vxgVUFC",
        "outputId": "c94caa3f-5009-41dc-d146-5d113dce8e08"
      },
      "outputs": [
        {
          "output_type": "execute_result",
          "data": {
            "text/plain": [
              "   Unnamed: 0  carat      cut color clarity  depth  table  price     x     y  \\\n",
              "0           1   0.23    Ideal     E     SI2   61.5   55.0    326  3.95  3.98   \n",
              "1           2   0.21  Premium     E     SI1   59.8   61.0    326  3.89  3.84   \n",
              "2           3   0.23     Good     E     VS1   56.9   65.0    327  4.05  4.07   \n",
              "3           4   0.29  Premium     I     VS2   62.4   58.0    334  4.20  4.23   \n",
              "4           5   0.31     Good     J     SI2   63.3   58.0    335  4.34  4.35   \n",
              "\n",
              "      z  \n",
              "0  2.43  \n",
              "1  2.31  \n",
              "2  2.31  \n",
              "3  2.63  \n",
              "4  2.75  "
            ],
            "text/html": [
              "\n",
              "  <div id=\"df-3b4fc775-3607-4168-8c5c-198076f91ad6\">\n",
              "    <div class=\"colab-df-container\">\n",
              "      <div>\n",
              "<style scoped>\n",
              "    .dataframe tbody tr th:only-of-type {\n",
              "        vertical-align: middle;\n",
              "    }\n",
              "\n",
              "    .dataframe tbody tr th {\n",
              "        vertical-align: top;\n",
              "    }\n",
              "\n",
              "    .dataframe thead th {\n",
              "        text-align: right;\n",
              "    }\n",
              "</style>\n",
              "<table border=\"1\" class=\"dataframe\">\n",
              "  <thead>\n",
              "    <tr style=\"text-align: right;\">\n",
              "      <th></th>\n",
              "      <th>Unnamed: 0</th>\n",
              "      <th>carat</th>\n",
              "      <th>cut</th>\n",
              "      <th>color</th>\n",
              "      <th>clarity</th>\n",
              "      <th>depth</th>\n",
              "      <th>table</th>\n",
              "      <th>price</th>\n",
              "      <th>x</th>\n",
              "      <th>y</th>\n",
              "      <th>z</th>\n",
              "    </tr>\n",
              "  </thead>\n",
              "  <tbody>\n",
              "    <tr>\n",
              "      <th>0</th>\n",
              "      <td>1</td>\n",
              "      <td>0.23</td>\n",
              "      <td>Ideal</td>\n",
              "      <td>E</td>\n",
              "      <td>SI2</td>\n",
              "      <td>61.5</td>\n",
              "      <td>55.0</td>\n",
              "      <td>326</td>\n",
              "      <td>3.95</td>\n",
              "      <td>3.98</td>\n",
              "      <td>2.43</td>\n",
              "    </tr>\n",
              "    <tr>\n",
              "      <th>1</th>\n",
              "      <td>2</td>\n",
              "      <td>0.21</td>\n",
              "      <td>Premium</td>\n",
              "      <td>E</td>\n",
              "      <td>SI1</td>\n",
              "      <td>59.8</td>\n",
              "      <td>61.0</td>\n",
              "      <td>326</td>\n",
              "      <td>3.89</td>\n",
              "      <td>3.84</td>\n",
              "      <td>2.31</td>\n",
              "    </tr>\n",
              "    <tr>\n",
              "      <th>2</th>\n",
              "      <td>3</td>\n",
              "      <td>0.23</td>\n",
              "      <td>Good</td>\n",
              "      <td>E</td>\n",
              "      <td>VS1</td>\n",
              "      <td>56.9</td>\n",
              "      <td>65.0</td>\n",
              "      <td>327</td>\n",
              "      <td>4.05</td>\n",
              "      <td>4.07</td>\n",
              "      <td>2.31</td>\n",
              "    </tr>\n",
              "    <tr>\n",
              "      <th>3</th>\n",
              "      <td>4</td>\n",
              "      <td>0.29</td>\n",
              "      <td>Premium</td>\n",
              "      <td>I</td>\n",
              "      <td>VS2</td>\n",
              "      <td>62.4</td>\n",
              "      <td>58.0</td>\n",
              "      <td>334</td>\n",
              "      <td>4.20</td>\n",
              "      <td>4.23</td>\n",
              "      <td>2.63</td>\n",
              "    </tr>\n",
              "    <tr>\n",
              "      <th>4</th>\n",
              "      <td>5</td>\n",
              "      <td>0.31</td>\n",
              "      <td>Good</td>\n",
              "      <td>J</td>\n",
              "      <td>SI2</td>\n",
              "      <td>63.3</td>\n",
              "      <td>58.0</td>\n",
              "      <td>335</td>\n",
              "      <td>4.34</td>\n",
              "      <td>4.35</td>\n",
              "      <td>2.75</td>\n",
              "    </tr>\n",
              "  </tbody>\n",
              "</table>\n",
              "</div>\n",
              "      <button class=\"colab-df-convert\" onclick=\"convertToInteractive('df-3b4fc775-3607-4168-8c5c-198076f91ad6')\"\n",
              "              title=\"Convert this dataframe to an interactive table.\"\n",
              "              style=\"display:none;\">\n",
              "        \n",
              "  <svg xmlns=\"http://www.w3.org/2000/svg\" height=\"24px\"viewBox=\"0 0 24 24\"\n",
              "       width=\"24px\">\n",
              "    <path d=\"M0 0h24v24H0V0z\" fill=\"none\"/>\n",
              "    <path d=\"M18.56 5.44l.94 2.06.94-2.06 2.06-.94-2.06-.94-.94-2.06-.94 2.06-2.06.94zm-11 1L8.5 8.5l.94-2.06 2.06-.94-2.06-.94L8.5 2.5l-.94 2.06-2.06.94zm10 10l.94 2.06.94-2.06 2.06-.94-2.06-.94-.94-2.06-.94 2.06-2.06.94z\"/><path d=\"M17.41 7.96l-1.37-1.37c-.4-.4-.92-.59-1.43-.59-.52 0-1.04.2-1.43.59L10.3 9.45l-7.72 7.72c-.78.78-.78 2.05 0 2.83L4 21.41c.39.39.9.59 1.41.59.51 0 1.02-.2 1.41-.59l7.78-7.78 2.81-2.81c.8-.78.8-2.07 0-2.86zM5.41 20L4 18.59l7.72-7.72 1.47 1.35L5.41 20z\"/>\n",
              "  </svg>\n",
              "      </button>\n",
              "      \n",
              "  <style>\n",
              "    .colab-df-container {\n",
              "      display:flex;\n",
              "      flex-wrap:wrap;\n",
              "      gap: 12px;\n",
              "    }\n",
              "\n",
              "    .colab-df-convert {\n",
              "      background-color: #E8F0FE;\n",
              "      border: none;\n",
              "      border-radius: 50%;\n",
              "      cursor: pointer;\n",
              "      display: none;\n",
              "      fill: #1967D2;\n",
              "      height: 32px;\n",
              "      padding: 0 0 0 0;\n",
              "      width: 32px;\n",
              "    }\n",
              "\n",
              "    .colab-df-convert:hover {\n",
              "      background-color: #E2EBFA;\n",
              "      box-shadow: 0px 1px 2px rgba(60, 64, 67, 0.3), 0px 1px 3px 1px rgba(60, 64, 67, 0.15);\n",
              "      fill: #174EA6;\n",
              "    }\n",
              "\n",
              "    [theme=dark] .colab-df-convert {\n",
              "      background-color: #3B4455;\n",
              "      fill: #D2E3FC;\n",
              "    }\n",
              "\n",
              "    [theme=dark] .colab-df-convert:hover {\n",
              "      background-color: #434B5C;\n",
              "      box-shadow: 0px 1px 3px 1px rgba(0, 0, 0, 0.15);\n",
              "      filter: drop-shadow(0px 1px 2px rgba(0, 0, 0, 0.3));\n",
              "      fill: #FFFFFF;\n",
              "    }\n",
              "  </style>\n",
              "\n",
              "      <script>\n",
              "        const buttonEl =\n",
              "          document.querySelector('#df-3b4fc775-3607-4168-8c5c-198076f91ad6 button.colab-df-convert');\n",
              "        buttonEl.style.display =\n",
              "          google.colab.kernel.accessAllowed ? 'block' : 'none';\n",
              "\n",
              "        async function convertToInteractive(key) {\n",
              "          const element = document.querySelector('#df-3b4fc775-3607-4168-8c5c-198076f91ad6');\n",
              "          const dataTable =\n",
              "            await google.colab.kernel.invokeFunction('convertToInteractive',\n",
              "                                                     [key], {});\n",
              "          if (!dataTable) return;\n",
              "\n",
              "          const docLinkHtml = 'Like what you see? Visit the ' +\n",
              "            '<a target=\"_blank\" href=https://colab.research.google.com/notebooks/data_table.ipynb>data table notebook</a>'\n",
              "            + ' to learn more about interactive tables.';\n",
              "          element.innerHTML = '';\n",
              "          dataTable['output_type'] = 'display_data';\n",
              "          await google.colab.output.renderOutput(dataTable, element);\n",
              "          const docLink = document.createElement('div');\n",
              "          docLink.innerHTML = docLinkHtml;\n",
              "          element.appendChild(docLink);\n",
              "        }\n",
              "      </script>\n",
              "    </div>\n",
              "  </div>\n",
              "  "
            ]
          },
          "metadata": {},
          "execution_count": 1
        }
      ],
      "source": [
        "import random\n",
        "import math\n",
        "import pandas as pd \n",
        "\n",
        "diamonds = pd.read_csv(\"diamonds.csv\") \n",
        "# Preview the first 5 lines of the loaded data \n",
        "diamonds.head()\n",
        "                      "
      ]
    },
    {
      "cell_type": "code",
      "execution_count": null,
      "metadata": {
        "id": "PMOVVEWsUmFa"
      },
      "outputs": [],
      "source": [
        "import math\n",
        "def euclidean_dist(x1,x2):\n",
        "  euc_dist = []\n",
        "  for index in range (len(x2)):\n",
        "    sq_dist = math.sqrt(pow((x1[index]-x2[index]),2))\n",
        "    euc_dist.append(sq_dist)\n",
        "  return euc_dist"
      ]
    },
    {
      "cell_type": "code",
      "execution_count": null,
      "metadata": {
        "id": "9tbIlpFJ4kW8"
      },
      "outputs": [],
      "source": [
        "def nearest_neighbour(x_train_data,x_test_data,k):\n",
        "  distances = []\n",
        "  neighbours = []\n",
        "  for train_row in x_train_data:\n",
        "    distances.append((train_row,euclidean_dist(train_row,x_train_data)))\n",
        "  distances.sort()\n",
        "  neighbours = distances[0:k]\n",
        "  return neighbours"
      ]
    },
    {
      "cell_type": "code",
      "execution_count": null,
      "metadata": {
        "colab": {
          "base_uri": "https://localhost:8080/"
        },
        "id": "R-SGu0wv8EUn",
        "outputId": "7305ba77-d8d2-4c04-d1b0-e1077ec05643"
      },
      "outputs": [
        {
          "output_type": "stream",
          "name": "stdout",
          "text": [
            "43152\n",
            "10788\n"
          ]
        }
      ],
      "source": [
        "from sklearn.model_selection import train_test_split\n",
        "\n",
        "x = diamonds\n",
        "x_train_data,x_test_data = train_test_split(x, test_size=0.20, random_state = 633)\n",
        "print(len(x_train_data))\n",
        "print(len(x_test_data))\n",
        "\n",
        "#nearest_neighbour(x_train_data,x_test_data,5)\n"
      ]
    },
    {
      "cell_type": "code",
      "execution_count": null,
      "metadata": {
        "id": "k8kJZkGhathD"
      },
      "outputs": [],
      "source": [
        "def distance_measure(list1, list2):\n",
        "    \"\"\"Distance between two vectors.\"\"\"\n",
        "    squares = [(p-q) ** 2 for p, q in zip(list1, list2)]\n",
        "    return sum(squares) ** .5"
      ]
    },
    {
      "cell_type": "code",
      "execution_count": null,
      "metadata": {
        "id": "S7zaDsUHUgJH"
      },
      "outputs": [],
      "source": [
        "diamonds = diamonds.drop(['cut', 'color','clarity'],axis=1)"
      ]
    },
    {
      "cell_type": "code",
      "execution_count": null,
      "metadata": {
        "colab": {
          "base_uri": "https://localhost:8080/",
          "height": 206
        },
        "id": "ZX9gAJVxV4uV",
        "outputId": "b093d286-fe6e-4e57-cccc-fb075c960a7a"
      },
      "outputs": [
        {
          "output_type": "execute_result",
          "data": {
            "text/plain": [
              "   Unnamed: 0  carat  depth  table  price     x     y     z\n",
              "0           1   0.23   61.5   55.0    326  3.95  3.98  2.43\n",
              "1           2   0.21   59.8   61.0    326  3.89  3.84  2.31\n",
              "2           3   0.23   56.9   65.0    327  4.05  4.07  2.31\n",
              "3           4   0.29   62.4   58.0    334  4.20  4.23  2.63\n",
              "4           5   0.31   63.3   58.0    335  4.34  4.35  2.75"
            ],
            "text/html": [
              "\n",
              "  <div id=\"df-dea0b265-5a25-4710-9069-b8c2d21bf2f6\">\n",
              "    <div class=\"colab-df-container\">\n",
              "      <div>\n",
              "<style scoped>\n",
              "    .dataframe tbody tr th:only-of-type {\n",
              "        vertical-align: middle;\n",
              "    }\n",
              "\n",
              "    .dataframe tbody tr th {\n",
              "        vertical-align: top;\n",
              "    }\n",
              "\n",
              "    .dataframe thead th {\n",
              "        text-align: right;\n",
              "    }\n",
              "</style>\n",
              "<table border=\"1\" class=\"dataframe\">\n",
              "  <thead>\n",
              "    <tr style=\"text-align: right;\">\n",
              "      <th></th>\n",
              "      <th>Unnamed: 0</th>\n",
              "      <th>carat</th>\n",
              "      <th>depth</th>\n",
              "      <th>table</th>\n",
              "      <th>price</th>\n",
              "      <th>x</th>\n",
              "      <th>y</th>\n",
              "      <th>z</th>\n",
              "    </tr>\n",
              "  </thead>\n",
              "  <tbody>\n",
              "    <tr>\n",
              "      <th>0</th>\n",
              "      <td>1</td>\n",
              "      <td>0.23</td>\n",
              "      <td>61.5</td>\n",
              "      <td>55.0</td>\n",
              "      <td>326</td>\n",
              "      <td>3.95</td>\n",
              "      <td>3.98</td>\n",
              "      <td>2.43</td>\n",
              "    </tr>\n",
              "    <tr>\n",
              "      <th>1</th>\n",
              "      <td>2</td>\n",
              "      <td>0.21</td>\n",
              "      <td>59.8</td>\n",
              "      <td>61.0</td>\n",
              "      <td>326</td>\n",
              "      <td>3.89</td>\n",
              "      <td>3.84</td>\n",
              "      <td>2.31</td>\n",
              "    </tr>\n",
              "    <tr>\n",
              "      <th>2</th>\n",
              "      <td>3</td>\n",
              "      <td>0.23</td>\n",
              "      <td>56.9</td>\n",
              "      <td>65.0</td>\n",
              "      <td>327</td>\n",
              "      <td>4.05</td>\n",
              "      <td>4.07</td>\n",
              "      <td>2.31</td>\n",
              "    </tr>\n",
              "    <tr>\n",
              "      <th>3</th>\n",
              "      <td>4</td>\n",
              "      <td>0.29</td>\n",
              "      <td>62.4</td>\n",
              "      <td>58.0</td>\n",
              "      <td>334</td>\n",
              "      <td>4.20</td>\n",
              "      <td>4.23</td>\n",
              "      <td>2.63</td>\n",
              "    </tr>\n",
              "    <tr>\n",
              "      <th>4</th>\n",
              "      <td>5</td>\n",
              "      <td>0.31</td>\n",
              "      <td>63.3</td>\n",
              "      <td>58.0</td>\n",
              "      <td>335</td>\n",
              "      <td>4.34</td>\n",
              "      <td>4.35</td>\n",
              "      <td>2.75</td>\n",
              "    </tr>\n",
              "  </tbody>\n",
              "</table>\n",
              "</div>\n",
              "      <button class=\"colab-df-convert\" onclick=\"convertToInteractive('df-dea0b265-5a25-4710-9069-b8c2d21bf2f6')\"\n",
              "              title=\"Convert this dataframe to an interactive table.\"\n",
              "              style=\"display:none;\">\n",
              "        \n",
              "  <svg xmlns=\"http://www.w3.org/2000/svg\" height=\"24px\"viewBox=\"0 0 24 24\"\n",
              "       width=\"24px\">\n",
              "    <path d=\"M0 0h24v24H0V0z\" fill=\"none\"/>\n",
              "    <path d=\"M18.56 5.44l.94 2.06.94-2.06 2.06-.94-2.06-.94-.94-2.06-.94 2.06-2.06.94zm-11 1L8.5 8.5l.94-2.06 2.06-.94-2.06-.94L8.5 2.5l-.94 2.06-2.06.94zm10 10l.94 2.06.94-2.06 2.06-.94-2.06-.94-.94-2.06-.94 2.06-2.06.94z\"/><path d=\"M17.41 7.96l-1.37-1.37c-.4-.4-.92-.59-1.43-.59-.52 0-1.04.2-1.43.59L10.3 9.45l-7.72 7.72c-.78.78-.78 2.05 0 2.83L4 21.41c.39.39.9.59 1.41.59.51 0 1.02-.2 1.41-.59l7.78-7.78 2.81-2.81c.8-.78.8-2.07 0-2.86zM5.41 20L4 18.59l7.72-7.72 1.47 1.35L5.41 20z\"/>\n",
              "  </svg>\n",
              "      </button>\n",
              "      \n",
              "  <style>\n",
              "    .colab-df-container {\n",
              "      display:flex;\n",
              "      flex-wrap:wrap;\n",
              "      gap: 12px;\n",
              "    }\n",
              "\n",
              "    .colab-df-convert {\n",
              "      background-color: #E8F0FE;\n",
              "      border: none;\n",
              "      border-radius: 50%;\n",
              "      cursor: pointer;\n",
              "      display: none;\n",
              "      fill: #1967D2;\n",
              "      height: 32px;\n",
              "      padding: 0 0 0 0;\n",
              "      width: 32px;\n",
              "    }\n",
              "\n",
              "    .colab-df-convert:hover {\n",
              "      background-color: #E2EBFA;\n",
              "      box-shadow: 0px 1px 2px rgba(60, 64, 67, 0.3), 0px 1px 3px 1px rgba(60, 64, 67, 0.15);\n",
              "      fill: #174EA6;\n",
              "    }\n",
              "\n",
              "    [theme=dark] .colab-df-convert {\n",
              "      background-color: #3B4455;\n",
              "      fill: #D2E3FC;\n",
              "    }\n",
              "\n",
              "    [theme=dark] .colab-df-convert:hover {\n",
              "      background-color: #434B5C;\n",
              "      box-shadow: 0px 1px 3px 1px rgba(0, 0, 0, 0.15);\n",
              "      filter: drop-shadow(0px 1px 2px rgba(0, 0, 0, 0.3));\n",
              "      fill: #FFFFFF;\n",
              "    }\n",
              "  </style>\n",
              "\n",
              "      <script>\n",
              "        const buttonEl =\n",
              "          document.querySelector('#df-dea0b265-5a25-4710-9069-b8c2d21bf2f6 button.colab-df-convert');\n",
              "        buttonEl.style.display =\n",
              "          google.colab.kernel.accessAllowed ? 'block' : 'none';\n",
              "\n",
              "        async function convertToInteractive(key) {\n",
              "          const element = document.querySelector('#df-dea0b265-5a25-4710-9069-b8c2d21bf2f6');\n",
              "          const dataTable =\n",
              "            await google.colab.kernel.invokeFunction('convertToInteractive',\n",
              "                                                     [key], {});\n",
              "          if (!dataTable) return;\n",
              "\n",
              "          const docLinkHtml = 'Like what you see? Visit the ' +\n",
              "            '<a target=\"_blank\" href=https://colab.research.google.com/notebooks/data_table.ipynb>data table notebook</a>'\n",
              "            + ' to learn more about interactive tables.';\n",
              "          element.innerHTML = '';\n",
              "          dataTable['output_type'] = 'display_data';\n",
              "          await google.colab.output.renderOutput(dataTable, element);\n",
              "          const docLink = document.createElement('div');\n",
              "          docLink.innerHTML = docLinkHtml;\n",
              "          element.appendChild(docLink);\n",
              "        }\n",
              "      </script>\n",
              "    </div>\n",
              "  </div>\n",
              "  "
            ]
          },
          "metadata": {},
          "execution_count": 7
        }
      ],
      "source": [
        "diamonds.head()"
      ]
    },
    {
      "cell_type": "code",
      "execution_count": null,
      "metadata": {
        "id": "beQwBlFsWAHG"
      },
      "outputs": [],
      "source": [
        "l=list()\n",
        "l=diamonds.values.tolist()"
      ]
    },
    {
      "cell_type": "code",
      "execution_count": null,
      "metadata": {
        "id": "_bRxd3mNLrVe"
      },
      "outputs": [],
      "source": [
        "from sklearn.metrics.pairwise import euclidean_distances\n",
        "import random\n",
        "\n",
        "def neigh(k):\n",
        "  index = random.randint(0,len(diamonds)-1)\n",
        "  e = dict()\n",
        "  for i in range(0,len(l)):\n",
        "    e[i] = distance_measure(l[index],l[i])\n",
        "  e = dict(sorted(e.items(),key=lambda e: e[1]))\n",
        "  result=list(e.keys())\n",
        "  print(str(index)+\" is the index, with the nearest neighbour \" + str(result[1]))\n"
      ]
    },
    {
      "cell_type": "code",
      "execution_count": null,
      "metadata": {
        "colab": {
          "base_uri": "https://localhost:8080/"
        },
        "id": "P9oAX7VDN6Ve",
        "outputId": "5b4a821f-6500-4bbc-b29b-2940b5bbfa31",
        "scrolled": true
      },
      "outputs": [
        {
          "output_type": "stream",
          "name": "stdout",
          "text": [
            "15118 is the index, with the nearest neighbour 15117\n"
          ]
        }
      ],
      "source": [
        "neigh(10)"
      ]
    },
    {
      "cell_type": "markdown",
      "source": [
        "### **ILPD Project**"
      ],
      "metadata": {
        "id": "BUw0MyHdZqSI"
      }
    },
    {
      "cell_type": "markdown",
      "source": [
        "Downloaded the Indian Liver Patient Dataset from https://archive.ics.uci.edu/ml/datasets/ILPD+(Indian+Liver+Patient+Dataset). This dataset contains data about two types of patients - those with, and without liver disease. All but one attribute are continuous.\n",
        "\n",
        "**STEPS**\n",
        "\n",
        "2.1. Exploratory analysis and Preprocessing\n",
        "\n",
        "a. Computeed the distribution of the classes\n",
        "\n",
        "b. Checked if any of the data samples have missing values, and if so, replace them with appropriate imputed values\n",
        "\n",
        "c. Replaced the categorical attribute with multiple binary attributes using one-hot encoding.\n",
        "\n",
        "d. Ploted the correlation between all pairs of attributes (including the class attribute)\n",
        "\n",
        "e. Divideed the data randomly into a training, validation dataset and a test dataset in a 70:10:20 ratio. Used 633 as the random seed to get same results every time.\n",
        "\n",
        "2.2. Decision Tree Classifier\n",
        "\n",
        "a. Trained a Decision Tree classifier on the training data using Gini Index as the impurity measure.\n",
        "\n",
        "b. Computed the classification accuracy on the training and validation data.\n",
        "\n",
        "c. Tried alternative values for one hyperparameter to see if the validation accuracy improves.\n",
        "\n",
        "d. Computed the test accuracy for the best setting of the hyperparameter and plot the confusion matrix.\n",
        "\n",
        "2.3. K-NN\n",
        "\n",
        "a. Useed k-NN with Euclidean distance and k = 5.\n",
        "\n",
        "b. Computed the classification accuracy on the training, validation and test data.\n",
        "\n",
        "c. Trid alternative values of k (such as 1, 3, 7, 9) to see if the validation accuracy improves.\n",
        "\n",
        "d. Computed the test accuracy for the best setting of k and ploted the confusion matrix.\n",
        "\n",
        "e. Repeated steps b, c and d after normalizing the input features\n",
        "\n",
        "2.4. Cross-validation\n",
        "\n",
        "a. Used 5-fold cross-validation to train and evaluated the decision tree and k-NN classifiers on the entire dataset, using 4 folds for training and one for testing. Ideally i would use nested validation to select hyper parameters, but I used the hyper-parameter values selected earlier.\n",
        "\n",
        "2.5. Other classifiers\n",
        "\n",
        "a. Used cross validation to compare the results of Random Forest, Logistic Regression, and ANNs for this problem and with those of Decision Tree and k-NN.\n",
        "\n",
        "Attempted additional exploratory analysis and preprocessing to improve the validation accuracy.\n",
        "\n",
        "Instead of a fixed validation set, split the dataset into a training and test set in a 80:20 ratio and used the GridSearchCV function on the training set to look for the best hyperpamater values for Decision tree and k-NN classification. Computed the accuracy using the best performing hyperparameters using 5-fold cross-validation on the entire dataset."
      ],
      "metadata": {
        "id": "EumdNsLxUd1B"
      }
    },
    {
      "cell_type": "markdown",
      "metadata": {
        "id": "a7tBagmCFWIQ"
      },
      "source": [
        "### Solution"
      ]
    },
    {
      "cell_type": "markdown",
      "metadata": {
        "id": "UW8hwi-6FWIQ"
      },
      "source": [
        "#### Solution 6.1"
      ]
    },
    {
      "cell_type": "code",
      "execution_count": null,
      "metadata": {
        "colab": {
          "base_uri": "https://localhost:8080/",
          "height": 206
        },
        "id": "vOZCikoZaSO5",
        "outputId": "9386e725-be47-4dd1-890b-87cebce554dd"
      },
      "outputs": [
        {
          "output_type": "execute_result",
          "data": {
            "text/plain": [
              "   Age  Gender    TB   DB  Alkphos   Sgpt   Sgot   TB.1  ALB   A/G  Patient\n",
              "0   65  Female   0.7  0.1       187     16     18   6.8  3.3  0.90        1\n",
              "1   62    Male  10.9  5.5       699     64    100   7.5  3.2  0.74        1\n",
              "2   62    Male   7.3  4.1       490     60     68   7.0  3.3  0.89        1\n",
              "3   58    Male   1.0  0.4       182     14     20   6.8  3.4  1.00        1\n",
              "4   72    Male   3.9  2.0       195     27     59   7.3  2.4  0.40        1"
            ],
            "text/html": [
              "\n",
              "  <div id=\"df-c9a9e5a5-9aa3-430d-b2c3-7177de93ba2b\">\n",
              "    <div class=\"colab-df-container\">\n",
              "      <div>\n",
              "<style scoped>\n",
              "    .dataframe tbody tr th:only-of-type {\n",
              "        vertical-align: middle;\n",
              "    }\n",
              "\n",
              "    .dataframe tbody tr th {\n",
              "        vertical-align: top;\n",
              "    }\n",
              "\n",
              "    .dataframe thead th {\n",
              "        text-align: right;\n",
              "    }\n",
              "</style>\n",
              "<table border=\"1\" class=\"dataframe\">\n",
              "  <thead>\n",
              "    <tr style=\"text-align: right;\">\n",
              "      <th></th>\n",
              "      <th>Age</th>\n",
              "      <th>Gender</th>\n",
              "      <th>TB</th>\n",
              "      <th>DB</th>\n",
              "      <th>Alkphos</th>\n",
              "      <th>Sgpt</th>\n",
              "      <th>Sgot</th>\n",
              "      <th>TB.1</th>\n",
              "      <th>ALB</th>\n",
              "      <th>A/G</th>\n",
              "      <th>Patient</th>\n",
              "    </tr>\n",
              "  </thead>\n",
              "  <tbody>\n",
              "    <tr>\n",
              "      <th>0</th>\n",
              "      <td>65</td>\n",
              "      <td>Female</td>\n",
              "      <td>0.7</td>\n",
              "      <td>0.1</td>\n",
              "      <td>187</td>\n",
              "      <td>16</td>\n",
              "      <td>18</td>\n",
              "      <td>6.8</td>\n",
              "      <td>3.3</td>\n",
              "      <td>0.90</td>\n",
              "      <td>1</td>\n",
              "    </tr>\n",
              "    <tr>\n",
              "      <th>1</th>\n",
              "      <td>62</td>\n",
              "      <td>Male</td>\n",
              "      <td>10.9</td>\n",
              "      <td>5.5</td>\n",
              "      <td>699</td>\n",
              "      <td>64</td>\n",
              "      <td>100</td>\n",
              "      <td>7.5</td>\n",
              "      <td>3.2</td>\n",
              "      <td>0.74</td>\n",
              "      <td>1</td>\n",
              "    </tr>\n",
              "    <tr>\n",
              "      <th>2</th>\n",
              "      <td>62</td>\n",
              "      <td>Male</td>\n",
              "      <td>7.3</td>\n",
              "      <td>4.1</td>\n",
              "      <td>490</td>\n",
              "      <td>60</td>\n",
              "      <td>68</td>\n",
              "      <td>7.0</td>\n",
              "      <td>3.3</td>\n",
              "      <td>0.89</td>\n",
              "      <td>1</td>\n",
              "    </tr>\n",
              "    <tr>\n",
              "      <th>3</th>\n",
              "      <td>58</td>\n",
              "      <td>Male</td>\n",
              "      <td>1.0</td>\n",
              "      <td>0.4</td>\n",
              "      <td>182</td>\n",
              "      <td>14</td>\n",
              "      <td>20</td>\n",
              "      <td>6.8</td>\n",
              "      <td>3.4</td>\n",
              "      <td>1.00</td>\n",
              "      <td>1</td>\n",
              "    </tr>\n",
              "    <tr>\n",
              "      <th>4</th>\n",
              "      <td>72</td>\n",
              "      <td>Male</td>\n",
              "      <td>3.9</td>\n",
              "      <td>2.0</td>\n",
              "      <td>195</td>\n",
              "      <td>27</td>\n",
              "      <td>59</td>\n",
              "      <td>7.3</td>\n",
              "      <td>2.4</td>\n",
              "      <td>0.40</td>\n",
              "      <td>1</td>\n",
              "    </tr>\n",
              "  </tbody>\n",
              "</table>\n",
              "</div>\n",
              "      <button class=\"colab-df-convert\" onclick=\"convertToInteractive('df-c9a9e5a5-9aa3-430d-b2c3-7177de93ba2b')\"\n",
              "              title=\"Convert this dataframe to an interactive table.\"\n",
              "              style=\"display:none;\">\n",
              "        \n",
              "  <svg xmlns=\"http://www.w3.org/2000/svg\" height=\"24px\"viewBox=\"0 0 24 24\"\n",
              "       width=\"24px\">\n",
              "    <path d=\"M0 0h24v24H0V0z\" fill=\"none\"/>\n",
              "    <path d=\"M18.56 5.44l.94 2.06.94-2.06 2.06-.94-2.06-.94-.94-2.06-.94 2.06-2.06.94zm-11 1L8.5 8.5l.94-2.06 2.06-.94-2.06-.94L8.5 2.5l-.94 2.06-2.06.94zm10 10l.94 2.06.94-2.06 2.06-.94-2.06-.94-.94-2.06-.94 2.06-2.06.94z\"/><path d=\"M17.41 7.96l-1.37-1.37c-.4-.4-.92-.59-1.43-.59-.52 0-1.04.2-1.43.59L10.3 9.45l-7.72 7.72c-.78.78-.78 2.05 0 2.83L4 21.41c.39.39.9.59 1.41.59.51 0 1.02-.2 1.41-.59l7.78-7.78 2.81-2.81c.8-.78.8-2.07 0-2.86zM5.41 20L4 18.59l7.72-7.72 1.47 1.35L5.41 20z\"/>\n",
              "  </svg>\n",
              "      </button>\n",
              "      \n",
              "  <style>\n",
              "    .colab-df-container {\n",
              "      display:flex;\n",
              "      flex-wrap:wrap;\n",
              "      gap: 12px;\n",
              "    }\n",
              "\n",
              "    .colab-df-convert {\n",
              "      background-color: #E8F0FE;\n",
              "      border: none;\n",
              "      border-radius: 50%;\n",
              "      cursor: pointer;\n",
              "      display: none;\n",
              "      fill: #1967D2;\n",
              "      height: 32px;\n",
              "      padding: 0 0 0 0;\n",
              "      width: 32px;\n",
              "    }\n",
              "\n",
              "    .colab-df-convert:hover {\n",
              "      background-color: #E2EBFA;\n",
              "      box-shadow: 0px 1px 2px rgba(60, 64, 67, 0.3), 0px 1px 3px 1px rgba(60, 64, 67, 0.15);\n",
              "      fill: #174EA6;\n",
              "    }\n",
              "\n",
              "    [theme=dark] .colab-df-convert {\n",
              "      background-color: #3B4455;\n",
              "      fill: #D2E3FC;\n",
              "    }\n",
              "\n",
              "    [theme=dark] .colab-df-convert:hover {\n",
              "      background-color: #434B5C;\n",
              "      box-shadow: 0px 1px 3px 1px rgba(0, 0, 0, 0.15);\n",
              "      filter: drop-shadow(0px 1px 2px rgba(0, 0, 0, 0.3));\n",
              "      fill: #FFFFFF;\n",
              "    }\n",
              "  </style>\n",
              "\n",
              "      <script>\n",
              "        const buttonEl =\n",
              "          document.querySelector('#df-c9a9e5a5-9aa3-430d-b2c3-7177de93ba2b button.colab-df-convert');\n",
              "        buttonEl.style.display =\n",
              "          google.colab.kernel.accessAllowed ? 'block' : 'none';\n",
              "\n",
              "        async function convertToInteractive(key) {\n",
              "          const element = document.querySelector('#df-c9a9e5a5-9aa3-430d-b2c3-7177de93ba2b');\n",
              "          const dataTable =\n",
              "            await google.colab.kernel.invokeFunction('convertToInteractive',\n",
              "                                                     [key], {});\n",
              "          if (!dataTable) return;\n",
              "\n",
              "          const docLinkHtml = 'Like what you see? Visit the ' +\n",
              "            '<a target=\"_blank\" href=https://colab.research.google.com/notebooks/data_table.ipynb>data table notebook</a>'\n",
              "            + ' to learn more about interactive tables.';\n",
              "          element.innerHTML = '';\n",
              "          dataTable['output_type'] = 'display_data';\n",
              "          await google.colab.output.renderOutput(dataTable, element);\n",
              "          const docLink = document.createElement('div');\n",
              "          docLink.innerHTML = docLinkHtml;\n",
              "          element.appendChild(docLink);\n",
              "        }\n",
              "      </script>\n",
              "    </div>\n",
              "  </div>\n",
              "  "
            ]
          },
          "metadata": {},
          "execution_count": 11
        }
      ],
      "source": [
        "import pandas as pd \n",
        "\n",
        "data = pd.read_csv(\"ILPD.csv\") \n",
        "# Preview the first 5 lines of the loaded data \n",
        "data.head()"
      ]
    },
    {
      "cell_type": "code",
      "execution_count": null,
      "metadata": {
        "colab": {
          "base_uri": "https://localhost:8080/",
          "height": 206
        },
        "id": "E5L7TRQLd90f",
        "outputId": "22b29775-be27-462b-99de-df5efd6acb63"
      },
      "outputs": [
        {
          "output_type": "execute_result",
          "data": {
            "text/plain": [
              "   Age  Gender    TB   DB  Alkphos   Sgpt   Sgot   TB.1  ALB   A/G  Patient\n",
              "0   65  Female   0.7  0.1       187     16     18   6.8  3.3  0.90        1\n",
              "1   62    Male  10.9  5.5       699     64    100   7.5  3.2  0.74        1\n",
              "2   62    Male   7.3  4.1       490     60     68   7.0  3.3  0.89        1\n",
              "3   58    Male   1.0  0.4       182     14     20   6.8  3.4  1.00        1\n",
              "4   72    Male   3.9  2.0       195     27     59   7.3  2.4  0.40        1"
            ],
            "text/html": [
              "\n",
              "  <div id=\"df-a8b3f358-d897-484b-a484-13069ebd1d40\">\n",
              "    <div class=\"colab-df-container\">\n",
              "      <div>\n",
              "<style scoped>\n",
              "    .dataframe tbody tr th:only-of-type {\n",
              "        vertical-align: middle;\n",
              "    }\n",
              "\n",
              "    .dataframe tbody tr th {\n",
              "        vertical-align: top;\n",
              "    }\n",
              "\n",
              "    .dataframe thead th {\n",
              "        text-align: right;\n",
              "    }\n",
              "</style>\n",
              "<table border=\"1\" class=\"dataframe\">\n",
              "  <thead>\n",
              "    <tr style=\"text-align: right;\">\n",
              "      <th></th>\n",
              "      <th>Age</th>\n",
              "      <th>Gender</th>\n",
              "      <th>TB</th>\n",
              "      <th>DB</th>\n",
              "      <th>Alkphos</th>\n",
              "      <th>Sgpt</th>\n",
              "      <th>Sgot</th>\n",
              "      <th>TB.1</th>\n",
              "      <th>ALB</th>\n",
              "      <th>A/G</th>\n",
              "      <th>Patient</th>\n",
              "    </tr>\n",
              "  </thead>\n",
              "  <tbody>\n",
              "    <tr>\n",
              "      <th>0</th>\n",
              "      <td>65</td>\n",
              "      <td>Female</td>\n",
              "      <td>0.7</td>\n",
              "      <td>0.1</td>\n",
              "      <td>187</td>\n",
              "      <td>16</td>\n",
              "      <td>18</td>\n",
              "      <td>6.8</td>\n",
              "      <td>3.3</td>\n",
              "      <td>0.90</td>\n",
              "      <td>1</td>\n",
              "    </tr>\n",
              "    <tr>\n",
              "      <th>1</th>\n",
              "      <td>62</td>\n",
              "      <td>Male</td>\n",
              "      <td>10.9</td>\n",
              "      <td>5.5</td>\n",
              "      <td>699</td>\n",
              "      <td>64</td>\n",
              "      <td>100</td>\n",
              "      <td>7.5</td>\n",
              "      <td>3.2</td>\n",
              "      <td>0.74</td>\n",
              "      <td>1</td>\n",
              "    </tr>\n",
              "    <tr>\n",
              "      <th>2</th>\n",
              "      <td>62</td>\n",
              "      <td>Male</td>\n",
              "      <td>7.3</td>\n",
              "      <td>4.1</td>\n",
              "      <td>490</td>\n",
              "      <td>60</td>\n",
              "      <td>68</td>\n",
              "      <td>7.0</td>\n",
              "      <td>3.3</td>\n",
              "      <td>0.89</td>\n",
              "      <td>1</td>\n",
              "    </tr>\n",
              "    <tr>\n",
              "      <th>3</th>\n",
              "      <td>58</td>\n",
              "      <td>Male</td>\n",
              "      <td>1.0</td>\n",
              "      <td>0.4</td>\n",
              "      <td>182</td>\n",
              "      <td>14</td>\n",
              "      <td>20</td>\n",
              "      <td>6.8</td>\n",
              "      <td>3.4</td>\n",
              "      <td>1.00</td>\n",
              "      <td>1</td>\n",
              "    </tr>\n",
              "    <tr>\n",
              "      <th>4</th>\n",
              "      <td>72</td>\n",
              "      <td>Male</td>\n",
              "      <td>3.9</td>\n",
              "      <td>2.0</td>\n",
              "      <td>195</td>\n",
              "      <td>27</td>\n",
              "      <td>59</td>\n",
              "      <td>7.3</td>\n",
              "      <td>2.4</td>\n",
              "      <td>0.40</td>\n",
              "      <td>1</td>\n",
              "    </tr>\n",
              "  </tbody>\n",
              "</table>\n",
              "</div>\n",
              "      <button class=\"colab-df-convert\" onclick=\"convertToInteractive('df-a8b3f358-d897-484b-a484-13069ebd1d40')\"\n",
              "              title=\"Convert this dataframe to an interactive table.\"\n",
              "              style=\"display:none;\">\n",
              "        \n",
              "  <svg xmlns=\"http://www.w3.org/2000/svg\" height=\"24px\"viewBox=\"0 0 24 24\"\n",
              "       width=\"24px\">\n",
              "    <path d=\"M0 0h24v24H0V0z\" fill=\"none\"/>\n",
              "    <path d=\"M18.56 5.44l.94 2.06.94-2.06 2.06-.94-2.06-.94-.94-2.06-.94 2.06-2.06.94zm-11 1L8.5 8.5l.94-2.06 2.06-.94-2.06-.94L8.5 2.5l-.94 2.06-2.06.94zm10 10l.94 2.06.94-2.06 2.06-.94-2.06-.94-.94-2.06-.94 2.06-2.06.94z\"/><path d=\"M17.41 7.96l-1.37-1.37c-.4-.4-.92-.59-1.43-.59-.52 0-1.04.2-1.43.59L10.3 9.45l-7.72 7.72c-.78.78-.78 2.05 0 2.83L4 21.41c.39.39.9.59 1.41.59.51 0 1.02-.2 1.41-.59l7.78-7.78 2.81-2.81c.8-.78.8-2.07 0-2.86zM5.41 20L4 18.59l7.72-7.72 1.47 1.35L5.41 20z\"/>\n",
              "  </svg>\n",
              "      </button>\n",
              "      \n",
              "  <style>\n",
              "    .colab-df-container {\n",
              "      display:flex;\n",
              "      flex-wrap:wrap;\n",
              "      gap: 12px;\n",
              "    }\n",
              "\n",
              "    .colab-df-convert {\n",
              "      background-color: #E8F0FE;\n",
              "      border: none;\n",
              "      border-radius: 50%;\n",
              "      cursor: pointer;\n",
              "      display: none;\n",
              "      fill: #1967D2;\n",
              "      height: 32px;\n",
              "      padding: 0 0 0 0;\n",
              "      width: 32px;\n",
              "    }\n",
              "\n",
              "    .colab-df-convert:hover {\n",
              "      background-color: #E2EBFA;\n",
              "      box-shadow: 0px 1px 2px rgba(60, 64, 67, 0.3), 0px 1px 3px 1px rgba(60, 64, 67, 0.15);\n",
              "      fill: #174EA6;\n",
              "    }\n",
              "\n",
              "    [theme=dark] .colab-df-convert {\n",
              "      background-color: #3B4455;\n",
              "      fill: #D2E3FC;\n",
              "    }\n",
              "\n",
              "    [theme=dark] .colab-df-convert:hover {\n",
              "      background-color: #434B5C;\n",
              "      box-shadow: 0px 1px 3px 1px rgba(0, 0, 0, 0.15);\n",
              "      filter: drop-shadow(0px 1px 2px rgba(0, 0, 0, 0.3));\n",
              "      fill: #FFFFFF;\n",
              "    }\n",
              "  </style>\n",
              "\n",
              "      <script>\n",
              "        const buttonEl =\n",
              "          document.querySelector('#df-a8b3f358-d897-484b-a484-13069ebd1d40 button.colab-df-convert');\n",
              "        buttonEl.style.display =\n",
              "          google.colab.kernel.accessAllowed ? 'block' : 'none';\n",
              "\n",
              "        async function convertToInteractive(key) {\n",
              "          const element = document.querySelector('#df-a8b3f358-d897-484b-a484-13069ebd1d40');\n",
              "          const dataTable =\n",
              "            await google.colab.kernel.invokeFunction('convertToInteractive',\n",
              "                                                     [key], {});\n",
              "          if (!dataTable) return;\n",
              "\n",
              "          const docLinkHtml = 'Like what you see? Visit the ' +\n",
              "            '<a target=\"_blank\" href=https://colab.research.google.com/notebooks/data_table.ipynb>data table notebook</a>'\n",
              "            + ' to learn more about interactive tables.';\n",
              "          element.innerHTML = '';\n",
              "          dataTable['output_type'] = 'display_data';\n",
              "          await google.colab.output.renderOutput(dataTable, element);\n",
              "          const docLink = document.createElement('div');\n",
              "          docLink.innerHTML = docLinkHtml;\n",
              "          element.appendChild(docLink);\n",
              "        }\n",
              "      </script>\n",
              "    </div>\n",
              "  </div>\n",
              "  "
            ]
          },
          "metadata": {},
          "execution_count": 12
        }
      ],
      "source": [
        "import pandas as pd \n",
        "import matplotlib.pyplot as plt\n",
        "%matplotlib inline\n",
        "data = pd.read_csv(\"ILPD.csv\") \n",
        "# Preview the first 5 lines of the loaded data \n",
        "data.head()"
      ]
    },
    {
      "cell_type": "code",
      "execution_count": null,
      "metadata": {
        "colab": {
          "base_uri": "https://localhost:8080/"
        },
        "id": "7JM_itB4nadC",
        "outputId": "9b46736d-829c-420d-89e2-54bb2c9dbcab"
      },
      "outputs": [
        {
          "output_type": "execute_result",
          "data": {
            "text/plain": [
              "1    416\n",
              "2    167\n",
              "Name: Patient, dtype: int64"
            ]
          },
          "metadata": {},
          "execution_count": 13
        }
      ],
      "source": [
        "data['Patient'].value_counts()"
      ]
    },
    {
      "cell_type": "code",
      "execution_count": null,
      "metadata": {
        "colab": {
          "base_uri": "https://localhost:8080/",
          "height": 262
        },
        "id": "thYWNg30dQ56",
        "outputId": "f38d685e-84b7-4f96-d19f-4de8fa9e1477"
      },
      "outputs": [
        {
          "output_type": "display_data",
          "data": {
            "text/plain": [
              "<Figure size 432x288 with 1 Axes>"
            ],
            "image/png": "[encoded data removed]"
          },
          "metadata": {
            "needs_background": "light"
          }
        }
      ],
      "source": [
        "data['Patient'].value_counts().plot(kind='bar');"
      ]
    },
    {
      "cell_type": "code",
      "execution_count": null,
      "metadata": {
        "colab": {
          "base_uri": "https://localhost:8080/",
          "height": 268
        },
        "id": "8UIoIa-1fCsu",
        "outputId": "8bcc4a68-eb7d-4eee-9b22-a02b0f7f58a9"
      },
      "outputs": [
        {
          "output_type": "display_data",
          "data": {
            "text/plain": [
              "<Figure size 432x288 with 1 Axes>"
            ],
            "image/png": "[encoded data removed]"
          },
          "metadata": {
            "needs_background": "light"
          }
        }
      ],
      "source": [
        "data['Age'].value_counts().plot(kind='bar');"
      ]
    },
    {
      "cell_type": "code",
      "execution_count": null,
      "metadata": {
        "colab": {
          "base_uri": "https://localhost:8080/"
        },
        "id": "AFDrD4wvf3kK",
        "outputId": "416892d9-7f4a-41f7-fc6d-1e7eb2862879"
      },
      "outputs": [
        {
          "output_type": "execute_result",
          "data": {
            "text/plain": [
              "Age         0\n",
              "Gender      0\n",
              "TB          0\n",
              "DB          0\n",
              "Alkphos     0\n",
              "Sgpt        0\n",
              "Sgot        0\n",
              "TB.1        0\n",
              "ALB         0\n",
              "A/G         4\n",
              "Patient     0\n",
              "dtype: int64"
            ]
          },
          "metadata": {},
          "execution_count": 16
        }
      ],
      "source": [
        "data.isnull().sum() \n",
        "#A/G has 4 null values"
      ]
    },
    {
      "cell_type": "code",
      "execution_count": null,
      "metadata": {
        "id": "JcN6-PLhjwgN"
      },
      "outputs": [],
      "source": [
        "data['A/G']=data['A/G'].fillna(value=data['A/G'].mean())"
      ]
    },
    {
      "cell_type": "code",
      "execution_count": null,
      "metadata": {
        "colab": {
          "base_uri": "https://localhost:8080/"
        },
        "id": "HAfMV5WLkE32",
        "outputId": "c8ef7170-0fa5-4cba-ebbd-5bb31a2b84f2"
      },
      "outputs": [
        {
          "output_type": "execute_result",
          "data": {
            "text/plain": [
              "Age         0\n",
              "Gender      0\n",
              "TB          0\n",
              "DB          0\n",
              "Alkphos     0\n",
              "Sgpt        0\n",
              "Sgot        0\n",
              "TB.1        0\n",
              "ALB         0\n",
              "A/G         0\n",
              "Patient     0\n",
              "dtype: int64"
            ]
          },
          "metadata": {},
          "execution_count": 18
        }
      ],
      "source": [
        "data.isnull().sum() "
      ]
    },
    {
      "cell_type": "code",
      "execution_count": null,
      "metadata": {
        "colab": {
          "base_uri": "https://localhost:8080/"
        },
        "id": "W-FQA3c3mKA4",
        "outputId": "8e5f805e-75d3-41f9-8e82-4927a32c70f6"
      },
      "outputs": [
        {
          "output_type": "execute_result",
          "data": {
            "text/plain": [
              "array([0, 1])"
            ]
          },
          "metadata": {},
          "execution_count": 19
        }
      ],
      "source": [
        "from sklearn import preprocessing\n",
        "  \n",
        "# label_encoder object knows how to understand word labels.\n",
        "label_encoder = preprocessing.LabelEncoder()\n",
        "  \n",
        "# Encode labels in column 'Gender'.\n",
        "data['Gender']= label_encoder.fit_transform(data['Gender'])\n",
        "data['Gender'].unique()"
      ]
    },
    {
      "cell_type": "code",
      "execution_count": null,
      "metadata": {
        "colab": {
          "base_uri": "https://localhost:8080/",
          "height": 206
        },
        "id": "8AaYQ7DBrBFX",
        "outputId": "2028ce9b-8853-41ef-f238-6eab6cde8514"
      },
      "outputs": [
        {
          "output_type": "execute_result",
          "data": {
            "text/plain": [
              "   Age  Gender    TB   DB  Alkphos   Sgpt   Sgot   TB.1  ALB   A/G  Patient\n",
              "0   65       0   0.7  0.1       187     16     18   6.8  3.3  0.90        1\n",
              "1   62       1  10.9  5.5       699     64    100   7.5  3.2  0.74        1\n",
              "2   62       1   7.3  4.1       490     60     68   7.0  3.3  0.89        1\n",
              "3   58       1   1.0  0.4       182     14     20   6.8  3.4  1.00        1\n",
              "4   72       1   3.9  2.0       195     27     59   7.3  2.4  0.40        1"
            ],
            "text/html": [
              "\n",
              "  <div id=\"df-beddaac0-889c-4d68-805a-b43bed77798a\">\n",
              "    <div class=\"colab-df-container\">\n",
              "      <div>\n",
              "<style scoped>\n",
              "    .dataframe tbody tr th:only-of-type {\n",
              "        vertical-align: middle;\n",
              "    }\n",
              "\n",
              "    .dataframe tbody tr th {\n",
              "        vertical-align: top;\n",
              "    }\n",
              "\n",
              "    .dataframe thead th {\n",
              "        text-align: right;\n",
              "    }\n",
              "</style>\n",
              "<table border=\"1\" class=\"dataframe\">\n",
              "  <thead>\n",
              "    <tr style=\"text-align: right;\">\n",
              "      <th></th>\n",
              "      <th>Age</th>\n",
              "      <th>Gender</th>\n",
              "      <th>TB</th>\n",
              "      <th>DB</th>\n",
              "      <th>Alkphos</th>\n",
              "      <th>Sgpt</th>\n",
              "      <th>Sgot</th>\n",
              "      <th>TB.1</th>\n",
              "      <th>ALB</th>\n",
              "      <th>A/G</th>\n",
              "      <th>Patient</th>\n",
              "    </tr>\n",
              "  </thead>\n",
              "  <tbody>\n",
              "    <tr>\n",
              "      <th>0</th>\n",
              "      <td>65</td>\n",
              "      <td>0</td>\n",
              "      <td>0.7</td>\n",
              "      <td>0.1</td>\n",
              "      <td>187</td>\n",
              "      <td>16</td>\n",
              "      <td>18</td>\n",
              "      <td>6.8</td>\n",
              "      <td>3.3</td>\n",
              "      <td>0.90</td>\n",
              "      <td>1</td>\n",
              "    </tr>\n",
              "    <tr>\n",
              "      <th>1</th>\n",
              "      <td>62</td>\n",
              "      <td>1</td>\n",
              "      <td>10.9</td>\n",
              "      <td>5.5</td>\n",
              "      <td>699</td>\n",
              "      <td>64</td>\n",
              "      <td>100</td>\n",
              "      <td>7.5</td>\n",
              "      <td>3.2</td>\n",
              "      <td>0.74</td>\n",
              "      <td>1</td>\n",
              "    </tr>\n",
              "    <tr>\n",
              "      <th>2</th>\n",
              "      <td>62</td>\n",
              "      <td>1</td>\n",
              "      <td>7.3</td>\n",
              "      <td>4.1</td>\n",
              "      <td>490</td>\n",
              "      <td>60</td>\n",
              "      <td>68</td>\n",
              "      <td>7.0</td>\n",
              "      <td>3.3</td>\n",
              "      <td>0.89</td>\n",
              "      <td>1</td>\n",
              "    </tr>\n",
              "    <tr>\n",
              "      <th>3</th>\n",
              "      <td>58</td>\n",
              "      <td>1</td>\n",
              "      <td>1.0</td>\n",
              "      <td>0.4</td>\n",
              "      <td>182</td>\n",
              "      <td>14</td>\n",
              "      <td>20</td>\n",
              "      <td>6.8</td>\n",
              "      <td>3.4</td>\n",
              "      <td>1.00</td>\n",
              "      <td>1</td>\n",
              "    </tr>\n",
              "    <tr>\n",
              "      <th>4</th>\n",
              "      <td>72</td>\n",
              "      <td>1</td>\n",
              "      <td>3.9</td>\n",
              "      <td>2.0</td>\n",
              "      <td>195</td>\n",
              "      <td>27</td>\n",
              "      <td>59</td>\n",
              "      <td>7.3</td>\n",
              "      <td>2.4</td>\n",
              "      <td>0.40</td>\n",
              "      <td>1</td>\n",
              "    </tr>\n",
              "  </tbody>\n",
              "</table>\n",
              "</div>\n",
              "      <button class=\"colab-df-convert\" onclick=\"convertToInteractive('df-beddaac0-889c-4d68-805a-b43bed77798a')\"\n",
              "              title=\"Convert this dataframe to an interactive table.\"\n",
              "              style=\"display:none;\">\n",
              "        \n",
              "  <svg xmlns=\"http://www.w3.org/2000/svg\" height=\"24px\"viewBox=\"0 0 24 24\"\n",
              "       width=\"24px\">\n",
              "    <path d=\"M0 0h24v24H0V0z\" fill=\"none\"/>\n",
              "    <path d=\"M18.56 5.44l.94 2.06.94-2.06 2.06-.94-2.06-.94-.94-2.06-.94 2.06-2.06.94zm-11 1L8.5 8.5l.94-2.06 2.06-.94-2.06-.94L8.5 2.5l-.94 2.06-2.06.94zm10 10l.94 2.06.94-2.06 2.06-.94-2.06-.94-.94-2.06-.94 2.06-2.06.94z\"/><path d=\"M17.41 7.96l-1.37-1.37c-.4-.4-.92-.59-1.43-.59-.52 0-1.04.2-1.43.59L10.3 9.45l-7.72 7.72c-.78.78-.78 2.05 0 2.83L4 21.41c.39.39.9.59 1.41.59.51 0 1.02-.2 1.41-.59l7.78-7.78 2.81-2.81c.8-.78.8-2.07 0-2.86zM5.41 20L4 18.59l7.72-7.72 1.47 1.35L5.41 20z\"/>\n",
              "  </svg>\n",
              "      </button>\n",
              "      \n",
              "  <style>\n",
              "    .colab-df-container {\n",
              "      display:flex;\n",
              "      flex-wrap:wrap;\n",
              "      gap: 12px;\n",
              "    }\n",
              "\n",
              "    .colab-df-convert {\n",
              "      background-color: #E8F0FE;\n",
              "      border: none;\n",
              "      border-radius: 50%;\n",
              "      cursor: pointer;\n",
              "      display: none;\n",
              "      fill: #1967D2;\n",
              "      height: 32px;\n",
              "      padding: 0 0 0 0;\n",
              "      width: 32px;\n",
              "    }\n",
              "\n",
              "    .colab-df-convert:hover {\n",
              "      background-color: #E2EBFA;\n",
              "      box-shadow: 0px 1px 2px rgba(60, 64, 67, 0.3), 0px 1px 3px 1px rgba(60, 64, 67, 0.15);\n",
              "      fill: #174EA6;\n",
              "    }\n",
              "\n",
              "    [theme=dark] .colab-df-convert {\n",
              "      background-color: #3B4455;\n",
              "      fill: #D2E3FC;\n",
              "    }\n",
              "\n",
              "    [theme=dark] .colab-df-convert:hover {\n",
              "      background-color: #434B5C;\n",
              "      box-shadow: 0px 1px 3px 1px rgba(0, 0, 0, 0.15);\n",
              "      filter: drop-shadow(0px 1px 2px rgba(0, 0, 0, 0.3));\n",
              "      fill: #FFFFFF;\n",
              "    }\n",
              "  </style>\n",
              "\n",
              "      <script>\n",
              "        const buttonEl =\n",
              "          document.querySelector('#df-beddaac0-889c-4d68-805a-b43bed77798a button.colab-df-convert');\n",
              "        buttonEl.style.display =\n",
              "          google.colab.kernel.accessAllowed ? 'block' : 'none';\n",
              "\n",
              "        async function convertToInteractive(key) {\n",
              "          const element = document.querySelector('#df-beddaac0-889c-4d68-805a-b43bed77798a');\n",
              "          const dataTable =\n",
              "            await google.colab.kernel.invokeFunction('convertToInteractive',\n",
              "                                                     [key], {});\n",
              "          if (!dataTable) return;\n",
              "\n",
              "          const docLinkHtml = 'Like what you see? Visit the ' +\n",
              "            '<a target=\"_blank\" href=https://colab.research.google.com/notebooks/data_table.ipynb>data table notebook</a>'\n",
              "            + ' to learn more about interactive tables.';\n",
              "          element.innerHTML = '';\n",
              "          dataTable['output_type'] = 'display_data';\n",
              "          await google.colab.output.renderOutput(dataTable, element);\n",
              "          const docLink = document.createElement('div');\n",
              "          docLink.innerHTML = docLinkHtml;\n",
              "          element.appendChild(docLink);\n",
              "        }\n",
              "      </script>\n",
              "    </div>\n",
              "  </div>\n",
              "  "
            ]
          },
          "metadata": {},
          "execution_count": 20
        }
      ],
      "source": [
        "data.head()"
      ]
    },
    {
      "cell_type": "code",
      "execution_count": null,
      "metadata": {
        "colab": {
          "base_uri": "https://localhost:8080/",
          "height": 302
        },
        "id": "IbWlcTYrrkqk",
        "outputId": "9fb89679-3d0b-4e5a-de6d-6619ced91028"
      },
      "outputs": [
        {
          "output_type": "display_data",
          "data": {
            "text/plain": [
              "<Figure size 432x288 with 2 Axes>"
            ],
            "image/png": "[encoded data removed]"
          },
          "metadata": {
            "needs_background": "light"
          }
        }
      ],
      "source": [
        "import seaborn as sns\n",
        "import matplotlib.pyplot as plt\n",
        "\n",
        "\n",
        "matrix = data.corr().round(2)\n",
        "sns.heatmap(matrix, annot=True)\n",
        "plt.show()"
      ]
    },
    {
      "cell_type": "code",
      "execution_count": null,
      "metadata": {
        "id": "FbNdhWX9RNRm"
      },
      "outputs": [],
      "source": [
        "#Reference: https://datascience.stackexchange.com/questions/15135/train-test-validation-set-splitting-in-sklearn\n",
        "\n",
        "from sklearn.model_selection import train_test_split\n",
        "\n",
        "x = data.drop('Patient',axis=1)\n",
        "y = data.Patient\n",
        "\n",
        "x_train,x_testTemp,y_train,y_testTemp = train_test_split(x,y, test_size=0.30, random_state = 633)\n",
        "## test size = 0.33 as the 10% of total is 33% of tempTest\n",
        "x_test,x_val,y_test,y_val = train_test_split(x_testTemp,y_testTemp, test_size=0.33, random_state = 633)\n",
        "\n",
        "\n"
      ]
    },
    {
      "cell_type": "code",
      "execution_count": null,
      "metadata": {
        "colab": {
          "base_uri": "https://localhost:8080/"
        },
        "id": "O161aqlvoWsZ",
        "outputId": "a9235eb1-96a3-4096-d019-c8ce39a5f899"
      },
      "outputs": [
        {
          "name": "stdout",
          "output_type": "stream",
          "text": [
            "Length of data: \n",
            "583\n",
            "Length of training data: \n",
            "408\n",
            "Length of test data: \n",
            "117\n",
            "Length of validation: \n",
            "58\n"
          ]
        }
      ],
      "source": [
        "print(\"Length of data: \")\n",
        "print(len(data))\n",
        "print(\"Length of training data: \")\n",
        "print(len(x_train))\n",
        "print(\"Length of test data: \")\n",
        "print(len(x_test))\n",
        "print(\"Length of validation: \")\n",
        "print(len(x_val))"
      ]
    },
    {
      "cell_type": "markdown",
      "metadata": {
        "id": "OpT6Flsy-id4"
      },
      "source": [
        "**Notes For Myself**: \n",
        "- Plot for age is really bad and messy \n",
        "- one hot encoding better, used label encoder\n",
        "- corr plot is really messy, should try scaling from next time"
      ]
    },
    {
      "cell_type": "markdown",
      "metadata": {
        "id": "wmROsdwlFWIR"
      },
      "source": [
        "#### Solution 6.2"
      ]
    },
    {
      "cell_type": "code",
      "execution_count": null,
      "metadata": {
        "id": "R_XmtMCRFWIR"
      },
      "outputs": [],
      "source": [
        "from sklearn.tree import DecisionTreeClassifier\n",
        "from sklearn import metrics "
      ]
    },
    {
      "cell_type": "code",
      "execution_count": null,
      "metadata": {
        "colab": {
          "base_uri": "https://localhost:8080/"
        },
        "id": "BjBauY74xLFj",
        "outputId": "429d3415-3f07-43fc-f882-9118bb68ccc3"
      },
      "outputs": [
        {
          "name": "stdout",
          "output_type": "stream",
          "text": [
            "[1 1 1 2 1 1 2 2 1 1 1 1 1 1 1 2 2 1 2 2 1 2 1 1 1 2 1 2 1 1 2 1 1 1 2 2 2\n",
            " 2 1 1 2 2 2 1 1 2 1 2 2 1 1 1 2 1 1 2 2 1 1 1 1 1 2 1 2 2 1 1 1 1 2 1 1 1\n",
            " 1 1 1 1 1 1 1 1 1 1 1 2 1 1 1 1 1 1 1 2 1 2 2 1 1 2 2 1 1 2 1 1 1 2 1 2 1\n",
            " 2 1 1 1 1 1]\n",
            "Accuracy: \n",
            "0.6239316239316239\n"
          ]
        }
      ],
      "source": [
        "DT = DecisionTreeClassifier(criterion=\"gini\")\n",
        "DT = DT.fit(x_train,y_train)\n",
        "y_pred = DT.predict(x_test)\n",
        "print(y_pred)\n",
        "print(\"Accuracy: \")\n",
        "print(metrics.accuracy_score(y_test,y_pred))"
      ]
    },
    {
      "cell_type": "code",
      "execution_count": null,
      "metadata": {
        "colab": {
          "base_uri": "https://localhost:8080/",
          "height": 283
        },
        "id": "Sg7nqDcYxXQk",
        "outputId": "600ee1ea-5188-4f56-e0bf-d4d0cd90763e"
      },
      "outputs": [
        {
          "data": {
            "image/png": "[encoded data removed]",
            "text/plain": [
              "<Figure size 432x288 with 2 Axes>"
            ]
          },
          "metadata": {
            "needs_background": "light"
          },
          "output_type": "display_data"
        }
      ],
      "source": [
        "confusion_matrix = metrics.confusion_matrix(y_test, y_pred)\n",
        "\n",
        "cm_display = metrics.ConfusionMatrixDisplay(confusion_matrix = confusion_matrix, display_labels = [False, True])\n",
        "\n",
        "cm_display.plot()\n",
        "plt.show()"
      ]
    },
    {
      "cell_type": "code",
      "execution_count": null,
      "metadata": {
        "colab": {
          "base_uri": "https://localhost:8080/"
        },
        "id": "D_33_oC_7XPl",
        "outputId": "84f6ee85-cb84-467e-9496-ecb82662595d"
      },
      "outputs": [
        {
          "name": "stdout",
          "output_type": "stream",
          "text": [
            "[1 1 1 2 2 2 2 1 2 2 1 1 1 2 1 1 2 1 1 1 1 1 1 1 1 2 1 2 1 1 1 2 1 2 1 1 1\n",
            " 1 1 1 2 1 1 1 1 2 1 2 1 1 1 2 1 1 1 1 1 1]\n",
            "Accuracy: \n",
            "0.6551724137931034\n"
          ]
        }
      ],
      "source": [
        "y_predValidate = DT.predict(x_val)\n",
        "print(y_predValidate)\n",
        "print(\"Accuracy: \")\n",
        "print(metrics.accuracy_score(y_val,y_predValidate))"
      ]
    },
    {
      "cell_type": "code",
      "execution_count": null,
      "metadata": {
        "colab": {
          "base_uri": "https://localhost:8080/",
          "height": 283
        },
        "id": "DKV8LMtR7nbm",
        "outputId": "37ca24b8-19e4-4bf2-eb24-3618c966db71"
      },
      "outputs": [
        {
          "data": {
            "image/png": "[encoded data removed]",
            "text/plain": [
              "<Figure size 432x288 with 2 Axes>"
            ]
          },
          "metadata": {
            "needs_background": "light"
          },
          "output_type": "display_data"
        }
      ],
      "source": [
        "confusion_matrix = metrics.confusion_matrix(y_val, y_predValidate)\n",
        "\n",
        "cm_display1 = metrics.ConfusionMatrixDisplay(confusion_matrix = confusion_matrix, display_labels = [False, True])\n",
        "\n",
        "cm_display1.plot()\n",
        "plt.show()"
      ]
    },
    {
      "cell_type": "markdown",
      "metadata": {
        "id": "LU-j9FP08J2d"
      },
      "source": [
        "**NEW METHOD**"
      ]
    },
    {
      "cell_type": "code",
      "execution_count": null,
      "metadata": {
        "colab": {
          "base_uri": "https://localhost:8080/"
        },
        "id": "DIP57UsPDelv",
        "outputId": "a8a46af5-410e-4c3a-a44b-834fd199ad1d"
      },
      "outputs": [
        {
          "name": "stdout",
          "output_type": "stream",
          "text": [
            "[1 1 1 2 1 1 1 1 2 1 1 1 1 1 1 2 1 1 2 2 1 2 1 1 1 2 2 1 1 2 1 1 1 1 1 2 2\n",
            " 2 1 1 1 2 2 1 1 2 1 2 2 1 1 2 2 1 1 2 1 2 1 1 1 1 1 1 2 2 1 1 1 2 2 2 1 2\n",
            " 2 1 2 1 1 1 1 2 1 1 1 1 1 1 2 1 2 1 2 2 1 2 1 1 1 2 2 2 2 2 2 2 1 1 1 2 1\n",
            " 2 1 1 1 2 2]\n",
            "Accuracy: \n",
            "0.6239316239316239\n"
          ]
        }
      ],
      "source": [
        "DT1 = DecisionTreeClassifier(criterion=\"entropy\",max_depth=5,min_samples_split=3)\n",
        "DT1 = DT1.fit(x_train,y_train)\n",
        "y_pred2 = DT1.predict(x_test)\n",
        "print(y_pred2)\n",
        "print(\"Accuracy: \")\n",
        "print(metrics.accuracy_score(y_test,y_pred2))"
      ]
    },
    {
      "cell_type": "code",
      "execution_count": null,
      "metadata": {
        "colab": {
          "base_uri": "https://localhost:8080/",
          "height": 283
        },
        "id": "2gkh4tvlDnRb",
        "outputId": "d03bb044-fd5d-459d-af5d-84657475dd27"
      },
      "outputs": [
        {
          "data": {
            "image/png": "[encoded data removed]",
            "text/plain": [
              "<Figure size 432x288 with 2 Axes>"
            ]
          },
          "metadata": {
            "needs_background": "light"
          },
          "output_type": "display_data"
        }
      ],
      "source": [
        "confusion_matrix = metrics.confusion_matrix(y_val, y_predValidate)\n",
        "\n",
        "cm_display1 = metrics.ConfusionMatrixDisplay(confusion_matrix = confusion_matrix, display_labels = [False, True])\n",
        "\n",
        "cm_display1.plot()\n",
        "plt.show()"
      ]
    },
    {
      "cell_type": "code",
      "execution_count": null,
      "metadata": {
        "colab": {
          "base_uri": "https://localhost:8080/"
        },
        "id": "olrG0_R624F4",
        "outputId": "6ada7455-a70a-4ab5-ee59-5d95fa7148d4"
      },
      "outputs": [
        {
          "name": "stdout",
          "output_type": "stream",
          "text": [
            "[1 1 1 2 2 2 2 1 2 2 1 1 1 2 1 1 2 1 1 1 1 1 1 1 1 2 1 2 1 1 1 2 1 2 1 1 1\n",
            " 1 1 1 2 1 1 1 1 2 1 2 1 1 1 2 1 1 1 1 1 1]\n",
            "Accuracy: \n",
            "0.6551724137931034\n"
          ]
        }
      ],
      "source": [
        "y_predValidate = DT.predict(x_val)\n",
        "print(y_predValidate)\n",
        "print(\"Accuracy: \")\n",
        "print(metrics.accuracy_score(y_val,y_predValidate))"
      ]
    },
    {
      "cell_type": "markdown",
      "metadata": {
        "id": "9H2zrXlUFWIR"
      },
      "source": [
        "#### Solution 6.3"
      ]
    },
    {
      "cell_type": "code",
      "execution_count": null,
      "metadata": {
        "colab": {
          "base_uri": "https://localhost:8080/"
        },
        "id": "VwTHuwoPFWIR",
        "outputId": "bc7718fa-6438-4054-de29-f25dc5f3ce2b"
      },
      "outputs": [
        {
          "name": "stdout",
          "output_type": "stream",
          "text": [
            "K=5 Test\n",
            "0.6324786324786325\n",
            "K=5 Val\n",
            "0.7241379310344828\n"
          ]
        }
      ],
      "source": [
        "from sklearn.neighbors import KNeighborsClassifier\n",
        "neigh = KNeighborsClassifier(n_neighbors=5)\n",
        "neigh.fit(x_train, y_train)\n",
        "y_predKnn = neigh.predict(x_test)\n",
        "print(\"K=5 Test\")\n",
        "print(metrics.accuracy_score(y_test,y_predKnn))\n",
        "y_predValidateKnn = neigh.predict(x_val)\n",
        "print(\"K=5 Val\")\n",
        "print(metrics.accuracy_score(y_val,y_predValidateKnn))"
      ]
    },
    {
      "cell_type": "code",
      "execution_count": null,
      "metadata": {
        "colab": {
          "base_uri": "https://localhost:8080/"
        },
        "id": "O_0SrO9_tuD1",
        "outputId": "30961ecd-16e7-40eb-c388-9520fadad952"
      },
      "outputs": [
        {
          "name": "stdout",
          "output_type": "stream",
          "text": [
            "K=9 Test ->\n",
            "0.6324786324786325\n",
            ", K=9 Val->\n",
            "0.7241379310344828\n"
          ]
        }
      ],
      "source": [
        "neigh2 = KNeighborsClassifier(n_neighbors=9)\n",
        "neigh2.fit(x_train, y_train)\n",
        "y_predKnn2 = neigh.predict(x_test)\n",
        "print(\"K=9 Test ->\")\n",
        "print(metrics.accuracy_score(y_test,y_predKnn2))\n",
        "y_predValidateKnn2 = neigh.predict(x_val)\n",
        "print(\", K=9 Val->\")\n",
        "print(metrics.accuracy_score(y_val,y_predValidateKnn2))"
      ]
    },
    {
      "cell_type": "markdown",
      "metadata": {
        "id": "6aelfgKPx7vn"
      },
      "source": [
        "K=1 Test ->\n",
        "0.6239316239316239\n",
        "K=1 Val->\n",
        "0.6551724137931034\n",
        "\n",
        "\n",
        "K=3 Test ->\n",
        "0.6153846153846154\n",
        ", K=3 Val->\n",
        "0.7068965517241379\n",
        "\n",
        "\n",
        "K=7 Test ->\n",
        "0.6068376068376068\n",
        ", K=7 Val->\n",
        "0.6724137931034483\n",
        "\n",
        "\n",
        "K=9 Test ->\n",
        "0.6581196581196581\n",
        ", K=9 Val->\n",
        "0.6724137931034483\n",
        "\n"
      ]
    },
    {
      "cell_type": "markdown",
      "metadata": {
        "id": "wN7clezy9c9d"
      },
      "source": [
        "**BEST IS K=5**"
      ]
    },
    {
      "cell_type": "code",
      "execution_count": null,
      "metadata": {
        "colab": {
          "base_uri": "https://localhost:8080/",
          "height": 279
        },
        "id": "-TtDidcjuXHQ",
        "outputId": "e6851453-96de-4264-a4a2-35260ded6b3c"
      },
      "outputs": [
        {
          "data": {
            "image/png": "[encoded data removed]",
            "text/plain": [
              "<Figure size 432x288 with 2 Axes>"
            ]
          },
          "metadata": {
            "needs_background": "light"
          },
          "output_type": "display_data"
        }
      ],
      "source": [
        "confusion_matrix = metrics.confusion_matrix(y_val, y_predValidateKnn2)\n",
        "\n",
        "cm_display1 = metrics.ConfusionMatrixDisplay(confusion_matrix = confusion_matrix, display_labels = [False, True])\n",
        "\n",
        "cm_display1.plot()\n",
        "plt.show()"
      ]
    },
    {
      "cell_type": "code",
      "execution_count": null,
      "metadata": {
        "colab": {
          "base_uri": "https://localhost:8080/",
          "height": 279
        },
        "id": "b5414qGO9sJp",
        "outputId": "b1e974da-fea4-49e1-94fc-c58f57b5084e"
      },
      "outputs": [
        {
          "data": {
            "image/png": "[encoded data removed]",
            "text/plain": [
              "<Figure size 432x288 with 2 Axes>"
            ]
          },
          "metadata": {
            "needs_background": "light"
          },
          "output_type": "display_data"
        }
      ],
      "source": [
        "confusion_matrix = metrics.confusion_matrix(y_test, y_predKnn2)\n",
        "\n",
        "cm_display = metrics.ConfusionMatrixDisplay(confusion_matrix = confusion_matrix, display_labels = [False, True])\n",
        "\n",
        "cm_display.plot()\n",
        "plt.show()"
      ]
    },
    {
      "cell_type": "markdown",
      "metadata": {
        "id": "6gNG_i6R-KgO"
      },
      "source": [
        "**After normalizing the input features**"
      ]
    },
    {
      "cell_type": "code",
      "execution_count": null,
      "metadata": {
        "colab": {
          "base_uri": "https://localhost:8080/",
          "height": 206
        },
        "id": "S9vp_gmBubez",
        "outputId": "05360631-6a83-489a-8fb5-4a52106cfb18"
      },
      "outputs": [
        {
          "data": {
            "text/html": [
              "<div>\n",
              "<style scoped>\n",
              "    .dataframe tbody tr th:only-of-type {\n",
              "        vertical-align: middle;\n",
              "    }\n",
              "\n",
              "    .dataframe tbody tr th {\n",
              "        vertical-align: top;\n",
              "    }\n",
              "\n",
              "    .dataframe thead th {\n",
              "        text-align: right;\n",
              "    }\n",
              "</style>\n",
              "<table border=\"1\" class=\"dataframe\">\n",
              "  <thead>\n",
              "    <tr style=\"text-align: right;\">\n",
              "      <th></th>\n",
              "      <th>Age</th>\n",
              "      <th>Gender</th>\n",
              "      <th>TB</th>\n",
              "      <th>DB</th>\n",
              "      <th>Alkphos</th>\n",
              "      <th>Sgpt</th>\n",
              "      <th>Sgot</th>\n",
              "      <th>TB.1</th>\n",
              "      <th>ALB</th>\n",
              "      <th>A/G</th>\n",
              "    </tr>\n",
              "  </thead>\n",
              "  <tbody>\n",
              "    <tr>\n",
              "      <th>0</th>\n",
              "      <td>0.325683</td>\n",
              "      <td>0.000000</td>\n",
              "      <td>0.003507</td>\n",
              "      <td>0.000501</td>\n",
              "      <td>0.936965</td>\n",
              "      <td>0.080168</td>\n",
              "      <td>0.090189</td>\n",
              "      <td>0.034071</td>\n",
              "      <td>0.016535</td>\n",
              "      <td>0.004509</td>\n",
              "    </tr>\n",
              "    <tr>\n",
              "      <th>1</th>\n",
              "      <td>0.087095</td>\n",
              "      <td>0.001405</td>\n",
              "      <td>0.015312</td>\n",
              "      <td>0.007726</td>\n",
              "      <td>0.981922</td>\n",
              "      <td>0.089904</td>\n",
              "      <td>0.140475</td>\n",
              "      <td>0.010536</td>\n",
              "      <td>0.004495</td>\n",
              "      <td>0.001040</td>\n",
              "    </tr>\n",
              "    <tr>\n",
              "      <th>2</th>\n",
              "      <td>0.123434</td>\n",
              "      <td>0.001991</td>\n",
              "      <td>0.014533</td>\n",
              "      <td>0.008163</td>\n",
              "      <td>0.975523</td>\n",
              "      <td>0.119452</td>\n",
              "      <td>0.135379</td>\n",
              "      <td>0.013936</td>\n",
              "      <td>0.006570</td>\n",
              "      <td>0.001772</td>\n",
              "    </tr>\n",
              "    <tr>\n",
              "      <th>3</th>\n",
              "      <td>0.300939</td>\n",
              "      <td>0.005189</td>\n",
              "      <td>0.005189</td>\n",
              "      <td>0.002075</td>\n",
              "      <td>0.944325</td>\n",
              "      <td>0.072640</td>\n",
              "      <td>0.103772</td>\n",
              "      <td>0.035282</td>\n",
              "      <td>0.017641</td>\n",
              "      <td>0.005189</td>\n",
              "    </tr>\n",
              "    <tr>\n",
              "      <th>4</th>\n",
              "      <td>0.330364</td>\n",
              "      <td>0.004588</td>\n",
              "      <td>0.017895</td>\n",
              "      <td>0.009177</td>\n",
              "      <td>0.894736</td>\n",
              "      <td>0.123887</td>\n",
              "      <td>0.270715</td>\n",
              "      <td>0.033495</td>\n",
              "      <td>0.011012</td>\n",
              "      <td>0.001835</td>\n",
              "    </tr>\n",
              "  </tbody>\n",
              "</table>\n",
              "</div>"
            ],
            "text/plain": [
              "        Age    Gender        TB        DB  Alkphos      Sgpt      Sgot   \\\n",
              "0  0.325683  0.000000  0.003507  0.000501  0.936965  0.080168  0.090189   \n",
              "1  0.087095  0.001405  0.015312  0.007726  0.981922  0.089904  0.140475   \n",
              "2  0.123434  0.001991  0.014533  0.008163  0.975523  0.119452  0.135379   \n",
              "3  0.300939  0.005189  0.005189  0.002075  0.944325  0.072640  0.103772   \n",
              "4  0.330364  0.004588  0.017895  0.009177  0.894736  0.123887  0.270715   \n",
              "\n",
              "       TB.1       ALB       A/G  \n",
              "0  0.034071  0.016535  0.004509  \n",
              "1  0.010536  0.004495  0.001040  \n",
              "2  0.013936  0.006570  0.001772  \n",
              "3  0.035282  0.017641  0.005189  \n",
              "4  0.033495  0.011012  0.001835  "
            ]
          },
          "execution_count": 39,
          "metadata": {},
          "output_type": "execute_result"
        }
      ],
      "source": [
        "from sklearn.model_selection import train_test_split\n",
        "\n",
        "x1 = data.drop('Patient',axis=1)\n",
        "y1 = data.Patient\n",
        "\n",
        "data_normalized = preprocessing.normalize(x1)\n",
        "names=x1.columns\n",
        "scaled_df = pd.DataFrame(data_normalized, columns=names)\n",
        "scaled_df.head()"
      ]
    },
    {
      "cell_type": "code",
      "execution_count": null,
      "metadata": {
        "id": "0BmviRM9lLWM"
      },
      "outputs": [],
      "source": [
        "x_train,x_testTemp,y_train,y_testTemp = train_test_split(x1,y1, test_size=0.30, random_state = 633)\n",
        "\n",
        "x_test,x_val,y_test,y_val = train_test_split(x_testTemp,y_testTemp, test_size=0.33, random_state = 633)"
      ]
    },
    {
      "cell_type": "code",
      "execution_count": null,
      "metadata": {
        "colab": {
          "base_uri": "https://localhost:8080/"
        },
        "id": "k1-ajoHm_vvX",
        "outputId": "b75bb464-a658-4dfe-dbbf-dbbae7baff7b"
      },
      "outputs": [
        {
          "name": "stdout",
          "output_type": "stream",
          "text": [
            "K=5 Test\n",
            "0.6324786324786325\n",
            "K=5 Val\n",
            "0.7241379310344828\n"
          ]
        }
      ],
      "source": [
        "neigh_norm = KNeighborsClassifier(n_neighbors=5)\n",
        "neigh_norm.fit(x_train, y_train)\n",
        "y_predKnn_Norm = neigh.predict(x_test)\n",
        "print(\"K=5 Test\")\n",
        "print(metrics.accuracy_score(y_test,y_predKnn_Norm))\n",
        "y_predValidateKnn_Norm = neigh.predict(x_val)\n",
        "print(\"K=5 Val\")\n",
        "print(metrics.accuracy_score(y_val,y_predValidateKnn_Norm))"
      ]
    },
    {
      "cell_type": "code",
      "execution_count": null,
      "metadata": {
        "colab": {
          "base_uri": "https://localhost:8080/",
          "height": 279
        },
        "id": "bTUATkg_AWXa",
        "outputId": "ce902cde-9f2f-4650-d20b-4a1116fe9260"
      },
      "outputs": [
        {
          "data": {
            "image/png": "[encoded data removed]",
            "text/plain": [
              "<Figure size 432x288 with 2 Axes>"
            ]
          },
          "metadata": {
            "needs_background": "light"
          },
          "output_type": "display_data"
        }
      ],
      "source": [
        "confusion_matrix = metrics.confusion_matrix(y_test, y_predKnn_Norm)\n",
        "\n",
        "cm_display = metrics.ConfusionMatrixDisplay(confusion_matrix = confusion_matrix, display_labels = [False, True])\n",
        "\n",
        "cm_display.plot()\n",
        "plt.show()"
      ]
    },
    {
      "cell_type": "code",
      "execution_count": null,
      "metadata": {
        "colab": {
          "base_uri": "https://localhost:8080/",
          "height": 279
        },
        "id": "rfGf-NLqAdDc",
        "outputId": "f76ac642-a871-443c-aa41-c5d75cf3d630"
      },
      "outputs": [
        {
          "data": {
            "image/png": "[encoded data removed]",
            "text/plain": [
              "<Figure size 432x288 with 2 Axes>"
            ]
          },
          "metadata": {
            "needs_background": "light"
          },
          "output_type": "display_data"
        }
      ],
      "source": [
        "confusion_matrix = metrics.confusion_matrix(y_val, y_predValidateKnn_Norm)\n",
        "\n",
        "cm_display1 = metrics.ConfusionMatrixDisplay(confusion_matrix = confusion_matrix, display_labels = [False, True])\n",
        "\n",
        "cm_display1.plot()\n",
        "plt.show()"
      ]
    },
    {
      "cell_type": "markdown",
      "metadata": {
        "id": "f6ZV0HRPFWIR"
      },
      "source": [
        "#### Solution 6.4"
      ]
    },
    {
      "cell_type": "code",
      "execution_count": null,
      "metadata": {
        "id": "m2er6W0sFWIR"
      },
      "outputs": [],
      "source": [
        "from sklearn.model_selection import cross_val_score\n",
        "from sklearn.linear_model import LogisticRegression\n",
        "from sklearn.svm import SVC\n",
        "from sklearn.ensemble import RandomForestClassifier"
      ]
    },
    {
      "cell_type": "code",
      "execution_count": null,
      "metadata": {
        "id": "OFCtdb3fbKhX"
      },
      "outputs": [],
      "source": [
        "from sklearn.model_selection import train_test_split\n",
        "X_train, X_test, y_train, y_test = train_test_split(x,y,test_size=0.2)"
      ]
    },
    {
      "cell_type": "code",
      "execution_count": null,
      "metadata": {
        "colab": {
          "base_uri": "https://localhost:8080/"
        },
        "id": "Cpf4Nue0qP8j",
        "outputId": "baf810ec-2b7f-4e6b-d41d-4599c73df336"
      },
      "outputs": [
        {
          "data": {
            "text/plain": [
              "0.6586354258768051"
            ]
          },
          "execution_count": 46,
          "metadata": {},
          "output_type": "execute_result"
        }
      ],
      "source": [
        "#DECISION TREE\n",
        "cross_val_score(DecisionTreeClassifier(criterion='gini'),x,y,cv=5).mean()"
      ]
    },
    {
      "cell_type": "code",
      "execution_count": null,
      "metadata": {
        "colab": {
          "base_uri": "https://localhost:8080/"
        },
        "id": "j6CTljxNpR8D",
        "outputId": "790556f2-a199-462e-8d3c-a162f82fb8bb"
      },
      "outputs": [
        {
          "data": {
            "text/plain": [
              "0.6637783672266431"
            ]
          },
          "execution_count": 47,
          "metadata": {},
          "output_type": "execute_result"
        }
      ],
      "source": [
        "#KNN\n",
        "cross_val_score(KNeighborsClassifier(n_neighbors=5),x,y,cv=5).mean()"
      ]
    },
    {
      "cell_type": "code",
      "execution_count": null,
      "metadata": {
        "id": "EVcIGJSnp32F"
      },
      "outputs": [],
      "source": [
        "#KNN 2\n",
        "cross_val_score(KNeighborsClassifier(n_neighbors=6),x,y,cv=5).mean()"
      ]
    },
    {
      "cell_type": "markdown",
      "metadata": {
        "id": "9DJge31MFWIS"
      },
      "source": [
        "#### Solution 6.5"
      ]
    },
    {
      "cell_type": "code",
      "execution_count": null,
      "metadata": {
        "id": "gV-yrMt1cqW-"
      },
      "outputs": [],
      "source": [
        "#RANDOM FOREST CLASSIFIER\n",
        "cross_val_score(RandomForestClassifier(n_estimators=40),x,y,cv=5).mean()"
      ]
    },
    {
      "cell_type": "code",
      "execution_count": null,
      "metadata": {
        "id": "Sy7cAAJUciDh"
      },
      "outputs": [],
      "source": [
        "#SVM\n",
        "cross_val_score(SVC(gamma='auto'), x,y,cv=5).mean()"
      ]
    },
    {
      "cell_type": "code",
      "execution_count": null,
      "metadata": {
        "id": "3G1K8aqacdmi"
      },
      "outputs": [],
      "source": [
        "#LOGISTIC REGRESSION\n",
        "cross_val_score(LogisticRegression(solver='liblinear',multi_class='ovr'), x,y,cv=5).mean()"
      ]
    },
    {
      "cell_type": "markdown",
      "metadata": {
        "id": "v7JnGQf4FWIS"
      },
      "source": [
        "**EXTRA**\n",
        "    "
      ]
    },
    {
      "cell_type": "code",
      "execution_count": null,
      "metadata": {
        "id": "K6Q2hMR5FWIS"
      },
      "outputs": [],
      "source": [
        "import pandas as pd \n",
        "\n",
        "explore = pd.read_csv(\"ILPD.csv\") \n",
        "# Preview the first 5 lines of the loaded data \n",
        "explore.head()"
      ]
    },
    {
      "cell_type": "code",
      "execution_count": null,
      "metadata": {
        "id": "4UtsC9pjtII9"
      },
      "outputs": [],
      "source": [
        "\n",
        "from sklearn import preprocessing\n",
        "  \n",
        "# label_encoder object knows how to understand word labels.\n",
        "label_encoder = preprocessing.LabelEncoder()\n",
        "  \n",
        "# Encode labels in column 'Gender'.\n",
        "explore['Gender']= label_encoder.fit_transform(data['Gender'])\n",
        "print(explore['Gender'].unique())\n",
        "print(\"\")\n",
        "print(explore.head())"
      ]
    },
    {
      "cell_type": "code",
      "execution_count": null,
      "metadata": {
        "id": "oKQJk9e-v50x"
      },
      "outputs": [],
      "source": [
        "import seaborn as sns\n",
        "import matplotlib.pyplot as plt\n",
        "import numpy as np\n",
        "\n",
        "\n",
        "cor_matrix = explore.corr().abs().round(3)\n",
        "sns.heatmap(matrix, annot=True)\n",
        "plt.show()"
      ]
    },
    {
      "cell_type": "code",
      "execution_count": null,
      "metadata": {
        "id": "HJpwRfxowgSJ"
      },
      "outputs": [],
      "source": [
        "#REFERENCE : https://www.projectpro.io/recipes/drop-out-highly-correlated-features-in-python\n",
        "\n",
        "upper_tri = cor_matrix.where(np.triu(np.ones(cor_matrix.shape),k=1).astype(np.bool))\n",
        "print(upper_tri)"
      ]
    },
    {
      "cell_type": "code",
      "execution_count": null,
      "metadata": {
        "id": "7YoZTZ_Rxh4j"
      },
      "outputs": [],
      "source": [
        "to_drop = [column for column in upper_tri.columns if any(upper_tri[column] > 0.85)]\n",
        "print(to_drop)"
      ]
    },
    {
      "cell_type": "code",
      "execution_count": null,
      "metadata": {
        "id": "AQ-q_lwFyKNk"
      },
      "outputs": [],
      "source": [
        "# Tried removing the column TB.1 as it has least coorlation with patient \n",
        "# Tried removing the column DB as it has high coorlation with TB\n",
        "# Tried removing both just to check\n",
        "\n",
        "explore1 = explore.drop(['DB'],axis=1)\n",
        "explore1.head()"
      ]
    },
    {
      "cell_type": "code",
      "execution_count": null,
      "metadata": {
        "id": "7F32SF_s0VdL"
      },
      "outputs": [],
      "source": [
        "from sklearn.model_selection import train_test_split\n",
        "\n",
        "x = data.drop('Patient',axis=1)\n",
        "y = data.Patient\n",
        "\n",
        "x_train,x_testTemp,y_train,y_testTemp = train_test_split(x,y, test_size=0.30, random_state = 633)\n",
        "\n",
        "x_test,x_val,y_test,y_val = train_test_split(x_testTemp,y_testTemp, test_size=0.33, random_state = 633)\n"
      ]
    },
    {
      "cell_type": "code",
      "execution_count": null,
      "metadata": {
        "id": "b_JX-US8nQJG"
      },
      "outputs": [],
      "source": [
        "DT = DecisionTreeClassifier(criterion=\"entropy\")\n",
        "DT = DT.fit(x_train,y_train)\n",
        "y_pred = DT.predict(x_test)\n",
        "print(y_pred)\n",
        "print(\"Accuracy: \")\n",
        "print(metrics.accuracy_score(y_test,y_pred))"
      ]
    },
    {
      "cell_type": "markdown",
      "metadata": {
        "id": "IKPXEF_z0yD0"
      },
      "source": [
        "Accuracy without TB.1 and DB: \n",
        "  0.5897435897435898\n",
        "\n",
        "Accuracy without DB: \n",
        "  0.6324786324786325\n",
        "\n",
        "Accuracy without TB.1: 0.6495726495726496\n",
        "\n"
      ]
    },
    {
      "cell_type": "code",
      "execution_count": null,
      "metadata": {
        "id": "BJjOMISO2p1I"
      },
      "outputs": [],
      "source": [
        "explore1.columns"
      ]
    },
    {
      "cell_type": "markdown",
      "metadata": {
        "id": "nI5b33IA7b7o"
      },
      "source": [
        "### **Dont Run: Tried Something did not work**"
      ]
    },
    {
      "cell_type": "code",
      "execution_count": null,
      "metadata": {
        "id": "2tbThYTiejdq"
      },
      "outputs": [],
      "source": [
        "## DOES NOT WORK//// was trying to make a grid of box plots\n",
        "\n",
        "boxplotAge = explore1.boxplot(column=['Age'])   \n",
        "boxplotTB = explore1.boxplot(column=['TB'])\n",
        "boxplotAlkphos = explore1.boxplot(column=['Alkphos '])\n",
        "#boxplotSgpt = explore1.boxplot(column=['Sgpt'])\n",
        "#boxplotSgot = explore1.boxplot(column=['Sgot'])\n",
        "boxplotTB1 = explore1.boxplot(column=['TB.1'])\n",
        "boxplotALB = explore1.boxplot(column=['ALB'])\n",
        "boxplotAG = explore1.boxplot(column=['A/G'])\n",
        "\n",
        "figure, axis = plt.subplots(3, 2)\n",
        "  \n",
        "# For \n",
        "axis[0,0].plot(boxplotAge)\n",
        "axis[0,0].set_title(\"boxplot Age\")\n",
        "  \n",
        "# For \n",
        "axis[0,1].plot(boxplotTB)\n",
        "axis[0,1].set_title(\"boxplot TB\")\n",
        "  \n",
        "# For \n",
        "axis[1,0].plot(boxplotAlkphos)\n",
        "axis[1,0].set_title(\"Boxplot Alkphos\")\n",
        "  \n",
        "# For \n",
        "axis[1,1].plot(boxplotTB1)\n",
        "axis[1,1].set_title(\"boxplot TB.1\")\n",
        "  \n",
        "# Combined\n",
        "plt.show()"
      ]
    },
    {
      "cell_type": "markdown",
      "metadata": {
        "id": "9Lq-GtPH7hyY"
      },
      "source": [
        "### **Run form here again**"
      ]
    },
    {
      "cell_type": "code",
      "execution_count": null,
      "metadata": {
        "colab": {
          "base_uri": "https://localhost:8080/",
          "height": 282
        },
        "id": "_TcHMIva7dpC",
        "outputId": "15798582-bfe1-406f-e5ec-17d094b5a873"
      },
      "outputs": [
        {
          "data": {
            "text/plain": [
              "<AxesSubplot:>"
            ]
          },
          "execution_count": 62,
          "metadata": {},
          "output_type": "execute_result"
        },
        {
          "data": {
            "image/png": "[encoded data removed]",
            "text/plain": [
              "<Figure size 432x288 with 1 Axes>"
            ]
          },
          "metadata": {
            "needs_background": "light"
          },
          "output_type": "display_data"
        }
      ],
      "source": [
        "explore1.boxplot(column=['Age'])"
      ]
    },
    {
      "cell_type": "code",
      "execution_count": null,
      "metadata": {
        "colab": {
          "base_uri": "https://localhost:8080/",
          "height": 282
        },
        "id": "6zuRfHB77jVM",
        "outputId": "510f27ec-97e7-4a3a-fe97-bbd533dddd1e"
      },
      "outputs": [
        {
          "data": {
            "text/plain": [
              "<AxesSubplot:>"
            ]
          },
          "execution_count": 63,
          "metadata": {},
          "output_type": "execute_result"
        },
        {
          "data": {
            "image/png": "[encoded data removed]",
            "text/plain": [
              "<Figure size 432x288 with 1 Axes>"
            ]
          },
          "metadata": {
            "needs_background": "light"
          },
          "output_type": "display_data"
        }
      ],
      "source": [
        "explore1.boxplot(column=['A/G'])  ## Not showing all plots as code becomes too long but tried all"
      ]
    },
    {
      "cell_type": "code",
      "execution_count": null,
      "metadata": {
        "colab": {
          "base_uri": "https://localhost:8080/"
        },
        "id": "5KWxlTiY-MnP",
        "outputId": "8517cd3a-1d6a-466c-ae4a-7d6c4281e97e"
      },
      "outputs": [
        {
          "name": "stdout",
          "output_type": "stream",
          "text": [
            "Old Shape:  (583, 10)\n",
            "New Shape:  (499, 10)\n"
          ]
        }
      ],
      "source": [
        "# IQR\n",
        "Q1 = np.percentile(explore1['TB'], 25,\n",
        "\t\t\t\tinterpolation = 'midpoint')\n",
        "\n",
        "Q3 = np.percentile(explore1['TB'], 75,\n",
        "\t\t\t\tinterpolation = 'midpoint')\n",
        "IQR = Q3 - Q1\n",
        "\n",
        "print(\"Old Shape: \", explore1.shape)\n",
        " \n",
        "# Upper bound\n",
        "upper = np.where(explore1['TB'] >= (Q3+1.5*IQR))\n",
        "# Lower bound\n",
        "lower = np.where(explore1['TB'] <= (Q1-1.5*IQR))\n",
        " \n",
        "''' Removing the Outliers '''\n",
        "explore1.drop(upper[0], inplace = True)\n",
        "explore1.drop(lower[0], inplace = True)\n",
        " \n",
        "print(\"New Shape: \", explore1.shape)\n"
      ]
    },
    {
      "cell_type": "code",
      "execution_count": null,
      "metadata": {
        "colab": {
          "base_uri": "https://localhost:8080/"
        },
        "id": "4COPSxpi_kzl",
        "outputId": "120db161-bea9-47d1-d212-4f3dc2cd218f"
      },
      "outputs": [
        {
          "data": {
            "text/plain": [
              "Age         0\n",
              "Gender      0\n",
              "TB          0\n",
              "Alkphos     0\n",
              "Sgpt        0\n",
              "Sgot        0\n",
              "TB.1        0\n",
              "ALB         0\n",
              "A/G         0\n",
              "Patient     0\n",
              "dtype: int64"
            ]
          },
          "execution_count": 65,
          "metadata": {},
          "output_type": "execute_result"
        }
      ],
      "source": [
        "explore1['A/G']=explore1['A/G'].fillna(value=explore1['A/G'].mean())\n",
        "explore1.isnull().sum() "
      ]
    },
    {
      "cell_type": "code",
      "execution_count": null,
      "metadata": {
        "id": "uG3_q_g9_XAV"
      },
      "outputs": [],
      "source": [
        "from sklearn.model_selection import train_test_split\n",
        "\n",
        "x = explore1.drop('Patient',axis=1)\n",
        "y = explore1.Patient\n",
        "\n",
        "x_train,x_testTemp,y_train,y_testTemp = train_test_split(x,y, test_size=0.30, random_state = 633)\n",
        "\n",
        "x_test,x_val,y_test,y_val = train_test_split(x_testTemp,y_testTemp, test_size=0.33, random_state = 633)"
      ]
    },
    {
      "cell_type": "code",
      "execution_count": null,
      "metadata": {
        "colab": {
          "base_uri": "https://localhost:8080/"
        },
        "id": "07ji2dK__OfA",
        "outputId": "96d5edb1-dae5-4cee-9688-a7aada9834d6"
      },
      "outputs": [
        {
          "name": "stdout",
          "output_type": "stream",
          "text": [
            "[1 1 1 1 1 1 1 1 2 2 2 1 1 1 2 1 2 1 1 1 1 1 2 2 2 2 2 1 1 1 2 1 1 1 1 2 1\n",
            " 2 2 2 1 1 1 2 1 2 1 1 2 1 2 1 2 1 1 1 1 2 2 2 2 1 1 2 1 2 2 2 2 1 1 1 1 1\n",
            " 1 1 1 1 1 1 1 1 1 2 1 1 1 2 1 2 1 2 2 1 2 1 2 1 1 1]\n",
            "Accuracy: \n",
            "0.69\n"
          ]
        }
      ],
      "source": [
        "## performs a lot better gives mean accuracy of 70 which is better than normal\n",
        "DT = DecisionTreeClassifier(criterion=\"gini\")\n",
        "DT = DT.fit(x_train,y_train)\n",
        "y_pred = DT.predict(x_test)\n",
        "print(y_pred)\n",
        "print(\"Accuracy: \")\n",
        "print(metrics.accuracy_score(y_test,y_pred))"
      ]
    }
  ],
  "metadata": {
    "colab": {
      "provenance": []
    },
    "kernelspec": {
      "display_name": "Python 3 (ipykernel)",
      "language": "python",
      "name": "python3"
    },
    "language_info": {
      "codemirror_mode": {
        "name": "ipython",
        "version": 3
      },
      "file_extension": ".py",
      "mimetype": "text/x-python",
      "name": "python",
      "nbconvert_exporter": "python",
      "pygments_lexer": "ipython3",
      "version": "3.9.12"
    }
  },
  "nbformat": 4,
  "nbformat_minor": 0
}